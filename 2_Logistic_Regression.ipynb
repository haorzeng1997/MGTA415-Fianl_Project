{
 "cells": [
  {
   "cell_type": "code",
   "execution_count": 1,
   "metadata": {},
   "outputs": [],
   "source": [
    "import pandas as pd\n",
    "import numpy as np\n",
    "from sklearn.model_selection import train_test_split"
   ]
  },
  {
   "cell_type": "code",
   "execution_count": 2,
   "metadata": {},
   "outputs": [],
   "source": [
    "data = pd.read_csv(\"fake_job_postings.csv\")"
   ]
  },
  {
   "cell_type": "code",
   "execution_count": 3,
   "metadata": {},
   "outputs": [],
   "source": [
    "location = data[\"location\"].str.split(\",\", expand= True, n= 2)\n",
    "location.columns = [\"country\", \"state\", \"city\"]\n",
    "data[[\"country\", \"state\", \"city\"]] = location\n",
    "data = data.drop(columns= \"location\")"
   ]
  },
  {
   "cell_type": "code",
   "execution_count": 4,
   "metadata": {},
   "outputs": [],
   "source": [
    "salary = data[\"salary_range\"].str.split(\"-\", expand= True, n= 1)\n",
    "data[[\"min_salary\", \"max_salary\"]] = salary\n",
    "data = data.drop(columns= \"salary_range\")"
   ]
  },
  {
   "cell_type": "code",
   "execution_count": 5,
   "metadata": {},
   "outputs": [],
   "source": [
    "data = data.fillna(\"N/A\")\n",
    "data[\"state\"] = data[\"state\"].str.strip().apply(lambda x: \"N/A\" if x == '' else x)\n",
    "data[\"country\"] = data[\"country\"].str.strip().apply(lambda x: \"N/A\" if x == '' else x)\n",
    "data[\"city\"] = data[\"city\"].str.strip().apply(lambda x: \"N/A\" if x == '' else x)"
   ]
  },
  {
   "cell_type": "code",
   "execution_count": 6,
   "metadata": {},
   "outputs": [],
   "source": [
    "for i in [\"company_profile\", \"description\", \"requirements\", \"benefits\"]:\n",
    "    data[i] = data[i].str.lower()"
   ]
  },
  {
   "cell_type": "code",
   "execution_count": 7,
   "metadata": {},
   "outputs": [
    {
     "data": {
      "text/plain": [
       "job_id                 0\n",
       "title                  0\n",
       "department             0\n",
       "company_profile        0\n",
       "description            0\n",
       "requirements           0\n",
       "benefits               0\n",
       "telecommuting          0\n",
       "has_company_logo       0\n",
       "has_questions          0\n",
       "employment_type        0\n",
       "required_experience    0\n",
       "required_education     0\n",
       "industry               0\n",
       "function               0\n",
       "fraudulent             0\n",
       "country                0\n",
       "state                  0\n",
       "city                   0\n",
       "min_salary             0\n",
       "max_salary             0\n",
       "dtype: int64"
      ]
     },
     "execution_count": 7,
     "metadata": {},
     "output_type": "execute_result"
    }
   ],
   "source": [
    "data.isnull().sum()"
   ]
  },
  {
   "cell_type": "code",
   "execution_count": 8,
   "metadata": {},
   "outputs": [
    {
     "data": {
      "text/plain": [
       "Index(['job_id', 'title', 'department', 'company_profile', 'description',\n",
       "       'requirements', 'benefits', 'telecommuting', 'has_company_logo',\n",
       "       'has_questions', 'employment_type', 'required_experience',\n",
       "       'required_education', 'industry', 'function', 'fraudulent', 'country',\n",
       "       'state', 'city', 'min_salary', 'max_salary'],\n",
       "      dtype='object')"
      ]
     },
     "execution_count": 8,
     "metadata": {},
     "output_type": "execute_result"
    }
   ],
   "source": [
    "data.columns"
   ]
  },
  {
   "cell_type": "code",
   "execution_count": 9,
   "metadata": {},
   "outputs": [
    {
     "data": {
      "text/html": [
       "<div>\n",
       "<style scoped>\n",
       "    .dataframe tbody tr th:only-of-type {\n",
       "        vertical-align: middle;\n",
       "    }\n",
       "\n",
       "    .dataframe tbody tr th {\n",
       "        vertical-align: top;\n",
       "    }\n",
       "\n",
       "    .dataframe thead th {\n",
       "        text-align: right;\n",
       "    }\n",
       "</style>\n",
       "<table border=\"1\" class=\"dataframe\">\n",
       "  <thead>\n",
       "    <tr style=\"text-align: right;\">\n",
       "      <th>min_salary</th>\n",
       "      <th>False</th>\n",
       "      <th>True</th>\n",
       "    </tr>\n",
       "    <tr>\n",
       "      <th>fraudulent</th>\n",
       "      <th></th>\n",
       "      <th></th>\n",
       "    </tr>\n",
       "  </thead>\n",
       "  <tbody>\n",
       "    <tr>\n",
       "      <th>0</th>\n",
       "      <td>2645</td>\n",
       "      <td>14369</td>\n",
       "    </tr>\n",
       "    <tr>\n",
       "      <th>1</th>\n",
       "      <td>223</td>\n",
       "      <td>643</td>\n",
       "    </tr>\n",
       "  </tbody>\n",
       "</table>\n",
       "</div>"
      ],
      "text/plain": [
       "min_salary  False  True \n",
       "fraudulent              \n",
       "0            2645  14369\n",
       "1             223    643"
      ]
     },
     "execution_count": 9,
     "metadata": {},
     "output_type": "execute_result"
    }
   ],
   "source": [
    "pd.crosstab(data.fraudulent, data.min_salary=='N/A')"
   ]
  },
  {
   "cell_type": "code",
   "execution_count": 10,
   "metadata": {},
   "outputs": [],
   "source": [
    "# train test split - 0.8, 0.1, 0.1, execute after preprocessing\n",
    "# X_train, X_test, y_train, y_test = train_test_split(data, data[\"fraudulent\"], test_size= 0.10, random_state= 42, stratify= data[\"fraudulent\"])\n",
    "# X_tran, X_val, y_train, y_val = train_test_split(X_train, y_train, test_size= 0.11, random_state= 42, stratify= y_train)"
   ]
  },
  {
   "cell_type": "markdown",
   "metadata": {},
   "source": [
    "### TF-IDF - Logistic Regression"
   ]
  },
  {
   "cell_type": "code",
   "execution_count": 23,
   "metadata": {},
   "outputs": [
    {
     "name": "stderr",
     "output_type": "stream",
     "text": [
      "[nltk_data] Downloading package punkt to /home/jovyan/nltk_data...\n",
      "[nltk_data]   Package punkt is already up-to-date!\n",
      "[nltk_data] Downloading package stopwords to /home/jovyan/nltk_data...\n",
      "[nltk_data]   Package stopwords is already up-to-date!\n"
     ]
    }
   ],
   "source": [
    "from sklearn.feature_extraction.text import CountVectorizer\n",
    "from sklearn.model_selection import train_test_split\n",
    "from sklearn.linear_model import LogisticRegression\n",
    "from sklearn.feature_extraction.text import TfidfVectorizer\n",
    "from sklearn.metrics import accuracy_score\n",
    "from sklearn.metrics import f1_score\n",
    "from sklearn.metrics import roc_auc_score\n",
    "from sklearn.metrics import precision_recall_fscore_support\n",
    "from sklearn.metrics import confusion_matrix\n",
    "from sklearn.metrics import classification_report\n",
    "from sklearn.preprocessing import LabelEncoder\n",
    "import collections\n",
    "from sklearn.preprocessing import StandardScaler\n",
    "from scipy.sparse import hstack\n",
    "import nltk\n",
    "nltk.download('punkt')\n",
    "from nltk.tokenize import word_tokenize\n",
    "from nltk.tokenize import sent_tokenize\n",
    "from nltk.stem import PorterStemmer\n",
    "nltk.download('stopwords')\n",
    "from nltk.corpus import stopwords\n",
    "from sklearn.feature_selection import RFE\n",
    "from matplotlib import pyplot"
   ]
  },
  {
   "cell_type": "code",
   "execution_count": 11,
   "metadata": {},
   "outputs": [],
   "source": [
    "# tokenizer define\n",
    "ps = PorterStemmer()\n",
    "stop = set(stopwords.words('english'))\n",
    "def tokenizer (doc):\n",
    "    sentences = sent_tokenize(doc)\n",
    "    tokens = []\n",
    "    for sent in sentences:\n",
    "        words = word_tokenize(sent)\n",
    "        words = [ps.stem(word) for word in words]\n",
    "        tokens+=words\n",
    "    return [w.lower() for w in tokens if w not in stop]"
   ]
  },
  {
   "cell_type": "code",
   "execution_count": 12,
   "metadata": {},
   "outputs": [],
   "source": [
    "# combine text features and vectorize\n",
    "df1 = data.copy()\n",
    "text_feature = df1[['title', 'department','company_profile','description','requirements','benefits']].apply(lambda x: ' '.join(x), axis = 1)\n",
    "\n",
    "tfidf = TfidfVectorizer(strip_accents=None,\n",
    "                        lowercase=True,\n",
    "                        preprocessor=None,  # applied preprocessor in Data Cleaning\n",
    "                        tokenizer=tokenizer,\n",
    "                        use_idf=True,\n",
    "                        norm='l2',\n",
    "                        smooth_idf=True)\n",
    "\n",
    "text_feature = tfidf.fit_transform(text_feature)\n"
   ]
  },
  {
   "cell_type": "code",
   "execution_count": 13,
   "metadata": {},
   "outputs": [],
   "source": [
    "# encode label features\n",
    "lb = LabelEncoder()\n",
    "\n",
    "for col in ['employment_type', 'required_experience', 'required_education', 'industry', 'function', 'country',\n",
    "       'state', 'city']:\n",
    "    df1[col] = lb.fit_transform(df1[col])\n"
   ]
  },
  {
   "cell_type": "code",
   "execution_count": 14,
   "metadata": {},
   "outputs": [],
   "source": [
    "# scale\n",
    "label_feature = df1[['employment_type', 'required_experience', 'required_education', 'industry', 'function', 'country',\n",
    "       'state', 'city']]\n",
    "scaler = StandardScaler().fit(label_feature)\n",
    "\n",
    "label_feature = scaler.transform(label_feature)"
   ]
  },
  {
   "cell_type": "code",
   "execution_count": 78,
   "metadata": {},
   "outputs": [
    {
     "name": "stdout",
     "output_type": "stream",
     "text": [
      "              precision    recall  f1-score   support\n",
      "\n",
      "           0   0.992257  0.988724  0.990488      1685\n",
      "           1   0.793478  0.848837  0.820225        86\n",
      "\n",
      "    accuracy                       0.981931      1771\n",
      "   macro avg   0.892868  0.918781  0.905356      1771\n",
      "weighted avg   0.982605  0.981931  0.982220      1771\n",
      "\n",
      "0.918780622455317\n"
     ]
    }
   ],
   "source": [
    "# build model\n",
    "X = hstack((text_feature, label_feature))\n",
    "y = df1['fraudulent']\n",
    "\n",
    "X_train, X_test, y_train, y_test = train_test_split(X, y, test_size= 0.10, random_state= 42, stratify= y)\n",
    "X_train, X_val, y_train, y_val = train_test_split(X_train, y_train, test_size= 0.11, random_state= 42, stratify= y_train)\n",
    "\n",
    "tfidf_clf = LogisticRegression(C=1, max_iter=10000, class_weight = 'balanced').fit(X_train, y_train)\n",
    "print(classification_report(y_val, tfidf_clf.predict(X_val), digits=6))\n",
    "print(roc_auc_score(y_val, tfidf_clf.predict(X_val), average='macro'))"
   ]
  },
  {
   "cell_type": "code",
   "execution_count": 29,
   "metadata": {},
   "outputs": [
    {
     "name": "stdout",
     "output_type": "stream",
     "text": [
      "employment_type | 0.07506910370737147\n",
      "required_experience | 0.25703517165843615\n",
      "required_education | 0.16477544425920318\n",
      "industry | -0.01127769950150585\n",
      "function | -0.4339682426136203\n",
      "country | 0.43847843142883514\n",
      "state | 0.07770028922464661\n",
      "city | -0.007637709450692502\n"
     ]
    }
   ],
   "source": [
    "# checking feature importance\n",
    "cols = ['employment_type', 'required_experience', 'required_education', 'industry', 'function', 'country',\n",
    "       'state', 'city']\n",
    "for i in range(8):\n",
    "    print(cols[i], \"|\", tfidf_clf.coef_[0][-8:][i])\n"
   ]
  },
  {
   "cell_type": "code",
   "execution_count": 73,
   "metadata": {},
   "outputs": [
    {
     "name": "stdout",
     "output_type": "stream",
     "text": [
      "              precision    recall  f1-score   support\n",
      "\n",
      "           0   0.992253  0.988131  0.990187      1685\n",
      "           1   0.784946  0.848837  0.815642        86\n",
      "\n",
      "    accuracy                       0.981366      1771\n",
      "   macro avg   0.888599  0.918484  0.902915      1771\n",
      "weighted avg   0.982186  0.981366  0.981711      1771\n",
      "\n",
      "0.9184838865502726\n"
     ]
    }
   ],
   "source": [
    "# if only processed with text - lower accruacy and other scores\n",
    "# if keep 'required_experience', 'required_education', 'function', 'country' - same result as using all varialbes\n",
    "# label_feature = df1[['required_experience', 'required_education', 'function', 'country']]\n",
    "# scaler = StandardScaler().fit(label_feature)\n",
    "\n",
    "# label_feature = scaler.transform(label_feature)\n",
    "# X = hstack((text_feature, label_feature))\n",
    "X = text_feature\n",
    "y = df1['fraudulent']\n",
    "\n",
    "X_train, X_test, y_train, y_test = train_test_split(X, y, test_size= 0.10, random_state= 42, stratify= y)\n",
    "X_train, X_val, y_train, y_val = train_test_split(X_train, y_train, test_size= 0.11, random_state= 42, stratify= y_train)\n",
    "\n",
    "tfidf_clf = LogisticRegression(C=1.0, max_iter=10000, class_weight = 'balanced').fit(X_train, y_train)\n",
    "print(classification_report(y_val, tfidf_clf.predict(X_val), digits=6))\n",
    "print(roc_auc_score(y_val, tfidf_clf.predict(X_val), average='macro'))"
   ]
  },
  {
   "cell_type": "code",
   "execution_count": 75,
   "metadata": {},
   "outputs": [
    {
     "name": "stdout",
     "output_type": "stream",
     "text": [
      "              precision    recall  f1-score   support\n",
      "\n",
      "           0   0.991677  0.989911  0.990793      1685\n",
      "           1   0.808989  0.837209  0.822857        86\n",
      "\n",
      "    accuracy                       0.982496      1771\n",
      "   macro avg   0.900333  0.913560  0.906825      1771\n",
      "weighted avg   0.982805  0.982496  0.982638      1771\n",
      "\n",
      "0.9135601407770341\n"
     ]
    }
   ],
   "source": [
    "# tunning\n",
    "X = hstack((text_feature, label_feature))\n",
    "y = df1['fraudulent']\n",
    "\n",
    "X_train, X_test, y_train, y_test = train_test_split(X, y, test_size= 0.10, random_state= 42, stratify= y)\n",
    "X_train, X_val, y_train, y_val = train_test_split(X_train, y_train, test_size= 0.11, random_state= 42, stratify= y_train)\n",
    "\n",
    "tfidf_clf = LogisticRegression(C=10, max_iter=10000, class_weight = 'balanced').fit(X_train, y_train)\n",
    "print(classification_report(y_val, tfidf_clf.predict(X_val), digits=6))\n",
    "print(roc_auc_score(y_val, tfidf_clf.predict(X_val), average='macro'))"
   ]
  },
  {
   "cell_type": "code",
   "execution_count": 83,
   "metadata": {},
   "outputs": [
    {
     "name": "stdout",
     "output_type": "stream",
     "text": [
      "              precision    recall  f1-score   support\n",
      "\n",
      "           0   0.991627  0.983976  0.987787      1685\n",
      "           1   0.727273  0.837209  0.778378        86\n",
      "\n",
      "    accuracy                       0.976849      1771\n",
      "   macro avg   0.859450  0.910593  0.883083      1771\n",
      "weighted avg   0.978790  0.976849  0.977618      1771\n",
      "\n",
      "0.910592781726589\n"
     ]
    }
   ],
   "source": [
    "# tunning\n",
    "tfidf_clf = LogisticRegression(C=0.1, max_iter=10000, class_weight = 'balanced').fit(X_train, y_train)\n",
    "print(classification_report(y_val, tfidf_clf.predict(X_val), digits=6))\n",
    "print(roc_auc_score(y_val, tfidf_clf.predict(X_val), average='macro'))"
   ]
  },
  {
   "cell_type": "code",
   "execution_count": 79,
   "metadata": {},
   "outputs": [
    {
     "data": {
      "text/plain": [
       "array([[1666,   19],\n",
       "       [  13,   73]])"
      ]
     },
     "execution_count": 79,
     "metadata": {},
     "output_type": "execute_result"
    }
   ],
   "source": [
    "confusion_matrix(y_val, tfidf_clf.predict(X_val))"
   ]
  },
  {
   "cell_type": "code",
   "execution_count": 87,
   "metadata": {},
   "outputs": [],
   "source": [
    "# final model\n",
    "X = hstack((text_feature, label_feature))\n",
    "y = df1['fraudulent']\n",
    "\n",
    "X_train, X_test, y_train, y_test = train_test_split(X, y, test_size= 0.10, random_state= 42, stratify= y)\n",
    "X_train, X_val, y_train, y_val = train_test_split(X_train, y_train, test_size= 0.11, random_state= 42, stratify= y_train)\n",
    "\n",
    "\n",
    "tfidf_clf = LogisticRegression(C=1, max_iter=10000, class_weight = 'balanced').fit(X_train, y_train)\n",
    "#print(classification_report(y_val, tfidf_clf.predict(X_val), digits=6))\n",
    "#print(roc_auc_score(y_val, tfidf_clf.predict(X_val), average='macro'))"
   ]
  },
  {
   "cell_type": "code",
   "execution_count": 88,
   "metadata": {},
   "outputs": [
    {
     "name": "stdout",
     "output_type": "stream",
     "text": [
      "              precision    recall  f1-score   support\n",
      "\n",
      "           0   0.994712  0.995297  0.995004      1701\n",
      "           1   0.906977  0.896552  0.901734        87\n",
      "\n",
      "    accuracy                       0.990492      1788\n",
      "   macro avg   0.950844  0.945924  0.948369      1788\n",
      "weighted avg   0.990443  0.990492  0.990466      1788\n",
      "\n",
      "0.9459243041618521\n"
     ]
    }
   ],
   "source": [
    "# Apply on test set\n",
    "print(classification_report(y_test, tfidf_clf.predict(X_test), digits=6))\n",
    "print(roc_auc_score(y_test, tfidf_clf.predict(X_test), average='macro'))\n"
   ]
  },
  {
   "cell_type": "code",
   "execution_count": 97,
   "metadata": {},
   "outputs": [
    {
     "data": {
      "text/plain": [
       "array([[  78,    9],\n",
       "       [   8, 1693]])"
      ]
     },
     "execution_count": 97,
     "metadata": {},
     "output_type": "execute_result"
    }
   ],
   "source": [
    "confusion_matrix(y_test, tfidf_clf.predict(X_test), labels=[1,0]) "
   ]
  },
  {
   "cell_type": "markdown",
   "metadata": {},
   "source": [
    "### BOW - Logistic Regression"
   ]
  },
  {
   "cell_type": "code",
   "execution_count": 106,
   "metadata": {},
   "outputs": [],
   "source": [
    "# combine text features and vectorize\n",
    "df2 = data.copy()\n",
    "text_feature = df2[['title', 'department','company_profile','description','requirements','benefits']].apply(lambda x: ' '.join(x), axis = 1)\n",
    "\n",
    "bow = CountVectorizer(tokenizer=tokenizer)\n",
    "\n",
    "text_feature = bow.fit_transform(text_feature)\n"
   ]
  },
  {
   "cell_type": "code",
   "execution_count": 107,
   "metadata": {},
   "outputs": [],
   "source": [
    "# encode label features\n",
    "lb = LabelEncoder()\n",
    "\n",
    "for col in ['employment_type', 'required_experience', 'required_education', 'industry', 'function', 'country',\n",
    "       'state', 'city']:\n",
    "    df2[col] = lb.fit_transform(df2[col])\n"
   ]
  },
  {
   "cell_type": "code",
   "execution_count": 108,
   "metadata": {},
   "outputs": [],
   "source": [
    "# scale\n",
    "label_feature = df2[['employment_type', 'required_experience', 'required_education', 'industry', 'function', 'country',\n",
    "       'state', 'city']]\n",
    "scaler = StandardScaler().fit(label_feature)\n",
    "\n",
    "label_feature = scaler.transform(label_feature)"
   ]
  },
  {
   "cell_type": "code",
   "execution_count": 109,
   "metadata": {},
   "outputs": [
    {
     "name": "stdout",
     "output_type": "stream",
     "text": [
      "              precision    recall  f1-score   support\n",
      "\n",
      "           0   0.992253  0.988131  0.990187      1685\n",
      "           1   0.784946  0.848837  0.815642        86\n",
      "\n",
      "    accuracy                       0.981366      1771\n",
      "   macro avg   0.888599  0.918484  0.902915      1771\n",
      "weighted avg   0.982186  0.981366  0.981711      1771\n",
      "\n",
      "0.9184838865502726\n"
     ]
    }
   ],
   "source": [
    "# build model\n",
    "X = hstack((text_feature, label_feature))\n",
    "y = df2['fraudulent']\n",
    "\n",
    "X_train, X_test, y_train, y_test = train_test_split(X, y, test_size= 0.10, random_state= 42, stratify= y)\n",
    "X_train, X_val, y_train, y_val = train_test_split(X_train, y_train, test_size= 0.11, random_state= 42, stratify= y_train)\n",
    "\n",
    "bow_clf = LogisticRegression(C=1.0, max_iter=10000, class_weight = 'balanced').fit(X_train, y_train)\n",
    "print(classification_report(y_val, bow_clf.predict(X_val), digits=6))\n",
    "print(roc_auc_score(y_val, bow_clf.predict(X_val), average='macro'))"
   ]
  },
  {
   "cell_type": "code",
   "execution_count": 55,
   "metadata": {},
   "outputs": [
    {
     "name": "stdout",
     "output_type": "stream",
     "text": [
      "employment_type | 0.2417920735850242\n",
      "required_experience | 0.35007397092246073\n",
      "required_education | 0.38439277528309646\n",
      "industry | -0.4690553511020775\n",
      "function | -0.6222970582320625\n",
      "country | 0.2660940000419586\n",
      "state | -0.04997706926619668\n",
      "city | 0.07876774786835677\n"
     ]
    }
   ],
   "source": [
    "# feature importance\n",
    "cols = ['employment_type', 'required_experience', 'required_education', 'industry', 'function', 'country',\n",
    "       'state', 'city']\n",
    "for i in range(8):\n",
    "    print(cols[i], \"|\", bow_clf.coef_[0][-8:][i])\n"
   ]
  },
  {
   "cell_type": "code",
   "execution_count": 110,
   "metadata": {},
   "outputs": [
    {
     "name": "stdout",
     "output_type": "stream",
     "text": [
      "              precision    recall  f1-score   support\n",
      "\n",
      "           0   0.992257  0.988724  0.990488      1685\n",
      "           1   0.793478  0.848837  0.820225        86\n",
      "\n",
      "    accuracy                       0.981931      1771\n",
      "   macro avg   0.892868  0.918781  0.905356      1771\n",
      "weighted avg   0.982605  0.981931  0.982220      1771\n",
      "\n",
      "0.918780622455317\n"
     ]
    }
   ],
   "source": [
    "# adjusted model\n",
    "label_feature = df2[['industry', 'function']]\n",
    "scaler = StandardScaler().fit(label_feature)\n",
    "\n",
    "label_feature = scaler.transform(label_feature)\n",
    "X = hstack((text_feature, label_feature))\n",
    "y = df2['fraudulent']\n",
    "\n",
    "X_train, X_test, y_train, y_test = train_test_split(X, y, test_size= 0.10, random_state= 42, stratify= y)\n",
    "X_train, X_val, y_train, y_val = train_test_split(X_train, y_train, test_size= 0.11, random_state= 42, stratify= y_train)\n",
    "\n",
    "bow_clf = LogisticRegression(C=1.0, max_iter=10000, class_weight = 'balanced').fit(X_train, y_train)\n",
    "print(classification_report(y_val, bow_clf.predict(X_val), digits=6))\n",
    "print(roc_auc_score(y_val, bow_clf.predict(X_val), average='macro'))"
   ]
  },
  {
   "cell_type": "code",
   "execution_count": 111,
   "metadata": {},
   "outputs": [
    {
     "name": "stdout",
     "output_type": "stream",
     "text": [
      "              precision    recall  f1-score   support\n",
      "\n",
      "           0   0.992262  0.989318  0.990788      1685\n",
      "           1   0.802198  0.848837  0.824859        86\n",
      "\n",
      "    accuracy                       0.982496      1771\n",
      "   macro avg   0.897230  0.919077  0.907823      1771\n",
      "weighted avg   0.983032  0.982496  0.982730      1771\n",
      "\n",
      "0.9190773583603615\n"
     ]
    }
   ],
   "source": [
    "# tuning\n",
    "bow_clf = LogisticRegression(C=5, max_iter=10000, class_weight = 'balanced').fit(X_train, y_train)\n",
    "print(classification_report(y_val, bow_clf.predict(X_val), digits=6))\n",
    "print(roc_auc_score(y_val, bow_clf.predict(X_val), average='macro'))"
   ]
  },
  {
   "cell_type": "code",
   "execution_count": 116,
   "metadata": {},
   "outputs": [],
   "source": [
    "# final model\n",
    "label_feature = df2[['industry', 'function']]\n",
    "scaler = StandardScaler().fit(label_feature)\n",
    "\n",
    "label_feature = scaler.transform(label_feature)\n",
    "X = hstack((text_feature, label_feature))\n",
    "# X = text_feature\n",
    "y = df2['fraudulent']\n",
    "\n",
    "bow_clf = LogisticRegression(C=5, max_iter=10000, class_weight = 'balanced').fit(X_train, y_train)\n"
   ]
  },
  {
   "cell_type": "code",
   "execution_count": 117,
   "metadata": {},
   "outputs": [
    {
     "name": "stdout",
     "output_type": "stream",
     "text": [
      "              precision    recall  f1-score   support\n",
      "\n",
      "           0   0.993545  0.995297  0.994420      1701\n",
      "           1   0.904762  0.873563  0.888889        87\n",
      "\n",
      "    accuracy                       0.989374      1788\n",
      "   macro avg   0.949153  0.934430  0.941654      1788\n",
      "weighted avg   0.989225  0.989374  0.989285      1788\n",
      "\n",
      "0.9344300512882888\n"
     ]
    }
   ],
   "source": [
    "# apply on test set\n",
    "print(classification_report(y_test, bow_clf.predict(X_test), digits=6))\n",
    "print(roc_auc_score(y_test, bow_clf.predict(X_test), average='macro'))"
   ]
  },
  {
   "cell_type": "code",
   "execution_count": 119,
   "metadata": {},
   "outputs": [
    {
     "data": {
      "text/plain": [
       "array([[  76,   11],\n",
       "       [   8, 1693]])"
      ]
     },
     "execution_count": 119,
     "metadata": {},
     "output_type": "execute_result"
    }
   ],
   "source": [
    "confusion_matrix(y_test, bow_clf.predict(X_test), labels=[1,0])"
   ]
  },
  {
   "cell_type": "markdown",
   "metadata": {},
   "source": [
    "### GloVe"
   ]
  },
  {
   "cell_type": "code",
   "execution_count": 123,
   "metadata": {},
   "outputs": [],
   "source": [
    "from gensim.test.utils import datapath, get_tmpfile\n",
    "from gensim.corpora import Dictionary\n",
    "from gensim.models import KeyedVectors, LdaModel, Word2Vec\n",
    "from gensim.scripts.glove2word2vec import glove2word2vec\n",
    "from gensim.test.utils import datapath, get_tmpfile\n",
    "import re\n",
    "# load the GloVe 6B embeddings\n",
    "\n",
    "glove_file = \"glove.6B.100d.txt\"\n",
    "tmp_file = get_tmpfile(\"test_word2vec.txt\")\n",
    "\n",
    "_ = glove2word2vec(glove_file, tmp_file)\n",
    "glove_model = KeyedVectors.load_word2vec_format(tmp_file)"
   ]
  },
  {
   "cell_type": "code",
   "execution_count": 120,
   "metadata": {},
   "outputs": [],
   "source": [
    "df3 = data.copy()\n",
    "text_feature = df3[['title', 'department','company_profile','description','requirements','benefits']].apply(lambda x: ' '.join(x), axis = 1)\n"
   ]
  },
  {
   "cell_type": "code",
   "execution_count": 121,
   "metadata": {},
   "outputs": [],
   "source": [
    "def word_averaging(model, sentence):\n",
    "    vectors = np.zeros(100)\n",
    "    words = re.sub(r\"\\W+\", \" \", sentence).split()\n",
    "    words = [w.lower() for w in words if w not in stop]\n",
    "   # words = [ps.stem(word) for word in words]\n",
    "    for i in words:\n",
    "        try:\n",
    "            vectors += model[i]\n",
    "        except KeyError:\n",
    "            pass\n",
    "    return vectors / len(words)"
   ]
  },
  {
   "cell_type": "code",
   "execution_count": 124,
   "metadata": {},
   "outputs": [],
   "source": [
    "# combine text features and vectorize\n",
    "df3 = data.copy()\n",
    "text = df3[['title', 'department','company_profile','description','requirements','benefits']].apply(lambda x: ' '.join(x), axis = 1)\n",
    "\n",
    "text_feature = list(word_averaging(glove_model, i) for i in text_feature)\n",
    "\n"
   ]
  },
  {
   "cell_type": "code",
   "execution_count": 125,
   "metadata": {},
   "outputs": [],
   "source": [
    "# scale\n",
    "lb = LabelEncoder()\n",
    "\n",
    "for col in ['employment_type', 'required_experience', 'required_education', 'industry', 'function', 'country',\n",
    "       'state', 'city']:\n",
    "    df3[col] = lb.fit_transform(df3[col])\n",
    "\n",
    "label_feature = df3[['employment_type', 'required_experience', 'required_education', 'industry', 'function', 'country',\n",
    "       'state', 'city']]\n",
    "scaler = StandardScaler().fit(label_feature)\n",
    "\n",
    "label_feature = scaler.transform(label_feature)"
   ]
  },
  {
   "cell_type": "code",
   "execution_count": 128,
   "metadata": {},
   "outputs": [
    {
     "name": "stdout",
     "output_type": "stream",
     "text": [
      "              precision    recall  f1-score   support\n",
      "\n",
      "           0   0.987787  0.808348  0.889104      1701\n",
      "           1   0.176768  0.804598  0.289855        87\n",
      "\n",
      "    accuracy                       0.808166      1788\n",
      "   macro avg   0.582278  0.806473  0.589480      1788\n",
      "weighted avg   0.948325  0.808166  0.859946      1788\n",
      "\n",
      "0.8064728658598391\n"
     ]
    }
   ],
   "source": [
    "# build model\n",
    "X = pd.concat([pd.DataFrame(text_feature),pd.DataFrame(label_feature)],axis=1).set_axis(list(range(108)), axis=1, inplace=False)\n",
    "y = df3['fraudulent']\n",
    "\n",
    "X_train, X_test, y_train, y_test = train_test_split(X, y, test_size= 0.10, random_state= 42, stratify= y)\n",
    "X_train, X_val, y_train, y_val = train_test_split(X_train, y_train, test_size= 0.11, random_state= 42, stratify= y_train)\n",
    "\n",
    "glove_clf = LogisticRegression(C=1.0, max_iter=10000, class_weight=\"balanced\").fit(X_train, y_train)\n",
    "print(classification_report(y_test, glove_clf.predict(X_test), digits=6))\n",
    "print(roc_auc_score(y_test, glove_clf.predict(X_test), average='macro'))"
   ]
  },
  {
   "cell_type": "code",
   "execution_count": 129,
   "metadata": {},
   "outputs": [
    {
     "name": "stdout",
     "output_type": "stream",
     "text": [
      "employment_type | 0.12492398007500559\n",
      "required_experience | 0.2766101989436487\n",
      "required_education | 0.15794061706875598\n",
      "industry | 0.12733947898596698\n",
      "function | -0.4751378421703102\n",
      "country | 0.5027073672831244\n",
      "state | 0.04529280621792042\n",
      "city | -0.021495299046772352\n"
     ]
    }
   ],
   "source": [
    "cols = ['employment_type', 'required_experience', 'required_education', 'industry', 'function', 'country',\n",
    "       'state', 'city']\n",
    "for i in range(8):\n",
    "    print(cols[i], \"|\", glove_clf.coef_[0][-8:][i])\n"
   ]
  },
  {
   "cell_type": "code",
   "execution_count": 143,
   "metadata": {},
   "outputs": [
    {
     "name": "stdout",
     "output_type": "stream",
     "text": [
      "              precision    recall  f1-score   support\n",
      "\n",
      "           0   0.990674  0.811875  0.892407      1701\n",
      "           1   0.187817  0.850575  0.307692        87\n",
      "\n",
      "    accuracy                       0.813758      1788\n",
      "   macro avg   0.589246  0.831225  0.600050      1788\n",
      "weighted avg   0.951609  0.813758  0.863956      1788\n",
      "\n",
      "0.8312250400373006\n"
     ]
    }
   ],
   "source": [
    "# only include important features\n",
    "X = pd.concat([pd.DataFrame(text_feature),pd.DataFrame(label_feature)[5]],axis=1).set_axis(list(range(101)), axis=1, inplace=False)\n",
    "y = df3['fraudulent']\n",
    "\n",
    "X_train, X_test, y_train, y_test = train_test_split(X, y, test_size= 0.10, random_state= 42, stratify= y)\n",
    "X_train, X_val, y_train, y_val = train_test_split(X_train, y_train, test_size= 0.11, random_state= 42, stratify= y_train)\n",
    "\n",
    "glove_clf = LogisticRegression(C=1.0, max_iter=10000, class_weight=\"balanced\").fit(X_train, y_train)\n",
    "print(classification_report(y_test, glove_clf.predict(X_test), digits=6))\n",
    "print(roc_auc_score(y_test, glove_clf.predict(X_test), average='macro'))"
   ]
  },
  {
   "cell_type": "code",
   "execution_count": 144,
   "metadata": {},
   "outputs": [
    {
     "name": "stdout",
     "output_type": "stream",
     "text": [
      "              precision    recall  f1-score   support\n",
      "\n",
      "           0   0.990728  0.816578  0.895263      1701\n",
      "           1   0.191710  0.850575  0.312896        87\n",
      "\n",
      "    accuracy                       0.818233      1788\n",
      "   macro avg   0.591219  0.833577  0.604080      1788\n",
      "weighted avg   0.951849  0.818233  0.866926      1788\n",
      "\n",
      "0.8335765979444141\n"
     ]
    }
   ],
   "source": [
    "# tuning\n",
    "glove_clf = LogisticRegression(C=2, max_iter=10000, class_weight=\"balanced\").fit(X_train, y_train)\n",
    "print(classification_report(y_test, glove_clf.predict(X_test), digits=6))\n",
    "print(roc_auc_score(y_test, glove_clf.predict(X_test), average='macro'))"
   ]
  },
  {
   "cell_type": "code",
   "execution_count": 145,
   "metadata": {},
   "outputs": [
    {
     "name": "stdout",
     "output_type": "stream",
     "text": [
      "              precision    recall  f1-score   support\n",
      "\n",
      "           0   0.991519  0.824809  0.900513      1701\n",
      "           1   0.201072  0.862069  0.326087        87\n",
      "\n",
      "    accuracy                       0.826622      1788\n",
      "   macro avg   0.596296  0.843439  0.613300      1788\n",
      "weighted avg   0.953058  0.826622  0.872563      1788\n",
      "\n",
      "0.8434389507186442\n"
     ]
    }
   ],
   "source": [
    "# tuning\n",
    "glove_clf = LogisticRegression(C=100, max_iter=10000, class_weight=\"balanced\").fit(X_train, y_train)\n",
    "print(classification_report(y_test, glove_clf.predict(X_test), digits=6))\n",
    "print(roc_auc_score(y_test, glove_clf.predict(X_test), average='macro'))"
   ]
  },
  {
   "cell_type": "code",
   "execution_count": 146,
   "metadata": {},
   "outputs": [
    {
     "name": "stdout",
     "output_type": "stream",
     "text": [
      "              precision    recall  f1-score   support\n",
      "\n",
      "           0   0.991519  0.824809  0.900513      1701\n",
      "           1   0.201072  0.862069  0.326087        87\n",
      "\n",
      "    accuracy                       0.826622      1788\n",
      "   macro avg   0.596296  0.843439  0.613300      1788\n",
      "weighted avg   0.953058  0.826622  0.872563      1788\n",
      "\n",
      "0.8434389507186442\n"
     ]
    }
   ],
   "source": [
    "# final model\n",
    "X = pd.concat([pd.DataFrame(text_feature),pd.DataFrame(label_feature)[5]],axis=1).set_axis(list(range(101)), axis=1, inplace=False)\n",
    "y = df3['fraudulent']\n",
    "\n",
    "X_train, X_test, y_train, y_test = train_test_split(X, y, test_size= 0.10, random_state= 42, stratify= y)\n",
    "X_train, X_val, y_train, y_val = train_test_split(X_train, y_train, test_size= 0.11, random_state= 42, stratify= y_train)\n",
    "\n",
    "glove_clf = LogisticRegression(C=100, max_iter=10000, class_weight=\"balanced\").fit(X_train, y_train)\n",
    "print(classification_report(y_test, glove_clf.predict(X_test), digits=6))\n",
    "print(roc_auc_score(y_test, glove_clf.predict(X_test), average='macro'))"
   ]
  },
  {
   "cell_type": "code",
   "execution_count": 147,
   "metadata": {},
   "outputs": [
    {
     "name": "stdout",
     "output_type": "stream",
     "text": [
      "              precision    recall  f1-score   support\n",
      "\n",
      "           0   0.991519  0.824809  0.900513      1701\n",
      "           1   0.201072  0.862069  0.326087        87\n",
      "\n",
      "    accuracy                       0.826622      1788\n",
      "   macro avg   0.596296  0.843439  0.613300      1788\n",
      "weighted avg   0.953058  0.826622  0.872563      1788\n",
      "\n",
      "0.8434389507186442\n"
     ]
    }
   ],
   "source": [
    "# applying on test set\n",
    "print(classification_report(y_test, glove_clf.predict(X_test), digits=6))\n",
    "print(roc_auc_score(y_test, glove_clf.predict(X_test), average='macro'))"
   ]
  },
  {
   "cell_type": "code",
   "execution_count": 148,
   "metadata": {},
   "outputs": [
    {
     "data": {
      "text/plain": [
       "array([[  75,   12],\n",
       "       [ 298, 1403]])"
      ]
     },
     "execution_count": 148,
     "metadata": {},
     "output_type": "execute_result"
    }
   ],
   "source": [
    "confusion_matrix(y_test, glove_clf.predict(X_test), labels=[1,0])"
   ]
  },
  {
   "cell_type": "code",
   "execution_count": null,
   "metadata": {},
   "outputs": [],
   "source": []
  }
 ],
 "metadata": {
  "kernelspec": {
   "display_name": "Python 3",
   "language": "python",
   "name": "python3"
  },
  "language_info": {
   "codemirror_mode": {
    "name": "ipython",
    "version": 3
   },
   "file_extension": ".py",
   "mimetype": "text/x-python",
   "name": "python",
   "nbconvert_exporter": "python",
   "pygments_lexer": "ipython3",
   "version": "3.8.5"
  }
 },
 "nbformat": 4,
 "nbformat_minor": 4
}
