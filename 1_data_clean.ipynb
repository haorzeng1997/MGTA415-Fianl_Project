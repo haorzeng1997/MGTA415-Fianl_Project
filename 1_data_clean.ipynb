{
 "metadata": {
  "language_info": {
   "codemirror_mode": {
    "name": "ipython",
    "version": 3
   },
   "file_extension": ".py",
   "mimetype": "text/x-python",
   "name": "python",
   "nbconvert_exporter": "python",
   "pygments_lexer": "ipython3",
   "version": "3.8.8-final"
  },
  "orig_nbformat": 2,
  "kernelspec": {
   "name": "python3",
   "display_name": "Python 3.8.8 64-bit ('base': conda)",
   "metadata": {
    "interpreter": {
     "hash": "dca0ade3e726a953b501b15e8e990130d2b7799f14cfd9f4271676035ebe5511"
    }
   }
  }
 },
 "nbformat": 4,
 "nbformat_minor": 2,
 "cells": [
  {
   "cell_type": "code",
   "execution_count": 121,
   "metadata": {},
   "outputs": [],
   "source": [
    "import pandas as pd\n",
    "import numpy as np\n",
    "from sklearn.model_selection import train_test_split"
   ]
  },
  {
   "cell_type": "code",
   "execution_count": 122,
   "metadata": {},
   "outputs": [],
   "source": [
    "data = pd.read_csv(\"fake_job_postings.csv\")"
   ]
  },
  {
   "cell_type": "code",
   "execution_count": 123,
   "metadata": {},
   "outputs": [],
   "source": [
    "location = data[\"location\"].str.split(\",\", expand= True, n= 2)\n",
    "location.columns = [\"country\", \"state\", \"city\"]\n",
    "data[[\"country\", \"state\", \"city\"]] = location\n",
    "data = data.drop(columns= \"location\")"
   ]
  },
  {
   "cell_type": "code",
   "execution_count": 124,
   "metadata": {},
   "outputs": [],
   "source": [
    "salary = data[\"salary_range\"].str.split(\"-\", expand= True, n= 1)\n",
    "data[[\"min_salary\", \"max_salary\"]] = salary\n",
    "data = data.drop(columns= \"salary_range\")"
   ]
  },
  {
   "cell_type": "code",
   "execution_count": 125,
   "metadata": {},
   "outputs": [],
   "source": [
    "data = data.fillna(\"N/A\")\n",
    "data[\"state\"] = data[\"state\"].str.strip().apply(lambda x: \"N/A\" if x == '' else x)\n",
    "data[\"country\"] = data[\"country\"].str.strip().apply(lambda x: \"N/A\" if x == '' else x)\n",
    "data[\"city\"] = data[\"city\"].str.strip().apply(lambda x: \"N/A\" if x == '' else x)"
   ]
  },
  {
   "cell_type": "code",
   "execution_count": 127,
   "metadata": {},
   "outputs": [],
   "source": [
    "for i in [\"company_profile\", \"description\", \"requirements\", \"benefits\"]:\n",
    "    data[i] = data[i].str.lower()"
   ]
  },
  {
   "cell_type": "code",
   "execution_count": 129,
   "metadata": {},
   "outputs": [
    {
     "output_type": "execute_result",
     "data": {
      "text/plain": [
       "job_id                 0\n",
       "title                  0\n",
       "department             0\n",
       "company_profile        0\n",
       "description            0\n",
       "requirements           0\n",
       "benefits               0\n",
       "telecommuting          0\n",
       "has_company_logo       0\n",
       "has_questions          0\n",
       "employment_type        0\n",
       "required_experience    0\n",
       "required_education     0\n",
       "industry               0\n",
       "function               0\n",
       "fraudulent             0\n",
       "country                0\n",
       "state                  0\n",
       "city                   0\n",
       "min_salary             0\n",
       "max_salary             0\n",
       "dtype: int64"
      ]
     },
     "metadata": {},
     "execution_count": 129
    }
   ],
   "source": [
    "data.isnull().sum()"
   ]
  },
  {
   "cell_type": "code",
   "execution_count": 128,
   "metadata": {},
   "outputs": [
    {
     "output_type": "execute_result",
     "data": {
      "text/plain": [
       "       job_id                                              title   department  \\\n",
       "0           1                                   Marketing Intern    Marketing   \n",
       "1           2          Customer Service - Cloud Video Production      Success   \n",
       "2           3            Commissioning Machinery Assistant (CMA)          N/A   \n",
       "3           4                  Account Executive - Washington DC        Sales   \n",
       "4           5                                Bill Review Manager          N/A   \n",
       "...       ...                                                ...          ...   \n",
       "17875   17876                   Account Director - Distribution         Sales   \n",
       "17876   17877                                 Payroll Accountant   Accounting   \n",
       "17877   17878  Project Cost Control Staff Engineer - Cost Con...          N/A   \n",
       "17878   17879                                   Graphic Designer          N/A   \n",
       "17879   17880                         Web Application Developers  Engineering   \n",
       "\n",
       "                                         company_profile  \\\n",
       "0      we're food52, and we've created a groundbreaki...   \n",
       "1      90 seconds, the worlds cloud video production ...   \n",
       "2      valor services provides workforce solutions th...   \n",
       "3      our passion for improving quality of life thro...   \n",
       "4      spotsource solutions llc is a global human cap...   \n",
       "...                                                  ...   \n",
       "17875  vend is looking for some awesome new talent to...   \n",
       "17876  weblinc is the e-commerce platform and service...   \n",
       "17877  we provide full time permanent positions for m...   \n",
       "17878                                                n/a   \n",
       "17879  vend is looking for some awesome new talent to...   \n",
       "\n",
       "                                             description  \\\n",
       "0      food52, a fast-growing, james beard award-winn...   \n",
       "1      organised - focused - vibrant - awesome!do you...   \n",
       "2      our client, located in houston, is actively se...   \n",
       "3      the company: esri – environmental systems rese...   \n",
       "4      job title: itemization review managerlocation:...   \n",
       "...                                                  ...   \n",
       "17875  just in case this is the first time you’ve vis...   \n",
       "17876  the payroll accountant will focus primarily on...   \n",
       "17877  experienced project cost control staff enginee...   \n",
       "17878  nemsia studios is looking for an experienced v...   \n",
       "17879  who are we?vend is an award winning web based ...   \n",
       "\n",
       "                                            requirements  \\\n",
       "0      experience with content management systems a m...   \n",
       "1      what we expect from you:your key responsibilit...   \n",
       "2      implement pre-commissioning and commissioning ...   \n",
       "3      education: bachelor’s or master’s in gis, busi...   \n",
       "4      qualifications:rn license in the state of texa...   \n",
       "...                                                  ...   \n",
       "17875  to ace this role you:will eat comprehensive st...   \n",
       "17876  - b.a. or b.s. in accounting- desire to have f...   \n",
       "17877  at least 12 years professional experience.abil...   \n",
       "17878  1. must be fluent in the latest versions of co...   \n",
       "17879  we want to hear from you if:you have an in-dep...   \n",
       "\n",
       "                                                benefits  telecommuting  \\\n",
       "0                                                    n/a              0   \n",
       "1      what you will get from usthrough being part of...              0   \n",
       "2                                                    n/a              0   \n",
       "3      our culture is anything but corporate—we have ...              0   \n",
       "4                                  full benefits offered              0   \n",
       "...                                                  ...            ...   \n",
       "17875  what can you expect from us?we have an open cu...              0   \n",
       "17876  health &amp; wellnessmedical planprescription ...              0   \n",
       "17877                                                n/a              0   \n",
       "17878  competitive salary (compensation will be based...              0   \n",
       "17879                                                n/a              0   \n",
       "\n",
       "       has_company_logo  has_questions  ... required_experience  \\\n",
       "0                     1              0  ...          Internship   \n",
       "1                     1              0  ...      Not Applicable   \n",
       "2                     1              0  ...                 N/A   \n",
       "3                     1              0  ...    Mid-Senior level   \n",
       "4                     1              1  ...    Mid-Senior level   \n",
       "...                 ...            ...  ...                 ...   \n",
       "17875                 1              1  ...    Mid-Senior level   \n",
       "17876                 1              1  ...    Mid-Senior level   \n",
       "17877                 0              0  ...                 N/A   \n",
       "17878                 0              1  ...      Not Applicable   \n",
       "17879                 1              1  ...    Mid-Senior level   \n",
       "\n",
       "      required_education                   industry              function  \\\n",
       "0                    N/A                        N/A             Marketing   \n",
       "1                    N/A  Marketing and Advertising      Customer Service   \n",
       "2                    N/A                        N/A                   N/A   \n",
       "3      Bachelor's Degree          Computer Software                 Sales   \n",
       "4      Bachelor's Degree     Hospital & Health Care  Health Care Provider   \n",
       "...                  ...                        ...                   ...   \n",
       "17875                N/A          Computer Software                 Sales   \n",
       "17876  Bachelor's Degree                   Internet   Accounting/Auditing   \n",
       "17877                N/A                        N/A                   N/A   \n",
       "17878       Professional             Graphic Design                Design   \n",
       "17879                N/A          Computer Software           Engineering   \n",
       "\n",
       "      fraudulent  country state          city min_salary max_salary  \n",
       "0              0       US    NY      New York        N/A        N/A  \n",
       "1              0       NZ   N/A      Auckland        N/A        N/A  \n",
       "2              0       US    IA         Wever        N/A        N/A  \n",
       "3              0       US    DC    Washington        N/A        N/A  \n",
       "4              0       US    FL    Fort Worth        N/A        N/A  \n",
       "...          ...      ...   ...           ...        ...        ...  \n",
       "17875          0       CA    ON       Toronto        N/A        N/A  \n",
       "17876          0       US    PA  Philadelphia        N/A        N/A  \n",
       "17877          0       US    TX       Houston        N/A        N/A  \n",
       "17878          0       NG    LA         Lagos        N/A        N/A  \n",
       "17879          0       NZ     N    Wellington        N/A        N/A  \n",
       "\n",
       "[17880 rows x 21 columns]"
      ],
      "text/html": "<div>\n<style scoped>\n    .dataframe tbody tr th:only-of-type {\n        vertical-align: middle;\n    }\n\n    .dataframe tbody tr th {\n        vertical-align: top;\n    }\n\n    .dataframe thead th {\n        text-align: right;\n    }\n</style>\n<table border=\"1\" class=\"dataframe\">\n  <thead>\n    <tr style=\"text-align: right;\">\n      <th></th>\n      <th>job_id</th>\n      <th>title</th>\n      <th>department</th>\n      <th>company_profile</th>\n      <th>description</th>\n      <th>requirements</th>\n      <th>benefits</th>\n      <th>telecommuting</th>\n      <th>has_company_logo</th>\n      <th>has_questions</th>\n      <th>...</th>\n      <th>required_experience</th>\n      <th>required_education</th>\n      <th>industry</th>\n      <th>function</th>\n      <th>fraudulent</th>\n      <th>country</th>\n      <th>state</th>\n      <th>city</th>\n      <th>min_salary</th>\n      <th>max_salary</th>\n    </tr>\n  </thead>\n  <tbody>\n    <tr>\n      <th>0</th>\n      <td>1</td>\n      <td>Marketing Intern</td>\n      <td>Marketing</td>\n      <td>we're food52, and we've created a groundbreaki...</td>\n      <td>food52, a fast-growing, james beard award-winn...</td>\n      <td>experience with content management systems a m...</td>\n      <td>n/a</td>\n      <td>0</td>\n      <td>1</td>\n      <td>0</td>\n      <td>...</td>\n      <td>Internship</td>\n      <td>N/A</td>\n      <td>N/A</td>\n      <td>Marketing</td>\n      <td>0</td>\n      <td>US</td>\n      <td>NY</td>\n      <td>New York</td>\n      <td>N/A</td>\n      <td>N/A</td>\n    </tr>\n    <tr>\n      <th>1</th>\n      <td>2</td>\n      <td>Customer Service - Cloud Video Production</td>\n      <td>Success</td>\n      <td>90 seconds, the worlds cloud video production ...</td>\n      <td>organised - focused - vibrant - awesome!do you...</td>\n      <td>what we expect from you:your key responsibilit...</td>\n      <td>what you will get from usthrough being part of...</td>\n      <td>0</td>\n      <td>1</td>\n      <td>0</td>\n      <td>...</td>\n      <td>Not Applicable</td>\n      <td>N/A</td>\n      <td>Marketing and Advertising</td>\n      <td>Customer Service</td>\n      <td>0</td>\n      <td>NZ</td>\n      <td>N/A</td>\n      <td>Auckland</td>\n      <td>N/A</td>\n      <td>N/A</td>\n    </tr>\n    <tr>\n      <th>2</th>\n      <td>3</td>\n      <td>Commissioning Machinery Assistant (CMA)</td>\n      <td>N/A</td>\n      <td>valor services provides workforce solutions th...</td>\n      <td>our client, located in houston, is actively se...</td>\n      <td>implement pre-commissioning and commissioning ...</td>\n      <td>n/a</td>\n      <td>0</td>\n      <td>1</td>\n      <td>0</td>\n      <td>...</td>\n      <td>N/A</td>\n      <td>N/A</td>\n      <td>N/A</td>\n      <td>N/A</td>\n      <td>0</td>\n      <td>US</td>\n      <td>IA</td>\n      <td>Wever</td>\n      <td>N/A</td>\n      <td>N/A</td>\n    </tr>\n    <tr>\n      <th>3</th>\n      <td>4</td>\n      <td>Account Executive - Washington DC</td>\n      <td>Sales</td>\n      <td>our passion for improving quality of life thro...</td>\n      <td>the company: esri – environmental systems rese...</td>\n      <td>education: bachelor’s or master’s in gis, busi...</td>\n      <td>our culture is anything but corporate—we have ...</td>\n      <td>0</td>\n      <td>1</td>\n      <td>0</td>\n      <td>...</td>\n      <td>Mid-Senior level</td>\n      <td>Bachelor's Degree</td>\n      <td>Computer Software</td>\n      <td>Sales</td>\n      <td>0</td>\n      <td>US</td>\n      <td>DC</td>\n      <td>Washington</td>\n      <td>N/A</td>\n      <td>N/A</td>\n    </tr>\n    <tr>\n      <th>4</th>\n      <td>5</td>\n      <td>Bill Review Manager</td>\n      <td>N/A</td>\n      <td>spotsource solutions llc is a global human cap...</td>\n      <td>job title: itemization review managerlocation:...</td>\n      <td>qualifications:rn license in the state of texa...</td>\n      <td>full benefits offered</td>\n      <td>0</td>\n      <td>1</td>\n      <td>1</td>\n      <td>...</td>\n      <td>Mid-Senior level</td>\n      <td>Bachelor's Degree</td>\n      <td>Hospital &amp; Health Care</td>\n      <td>Health Care Provider</td>\n      <td>0</td>\n      <td>US</td>\n      <td>FL</td>\n      <td>Fort Worth</td>\n      <td>N/A</td>\n      <td>N/A</td>\n    </tr>\n    <tr>\n      <th>...</th>\n      <td>...</td>\n      <td>...</td>\n      <td>...</td>\n      <td>...</td>\n      <td>...</td>\n      <td>...</td>\n      <td>...</td>\n      <td>...</td>\n      <td>...</td>\n      <td>...</td>\n      <td>...</td>\n      <td>...</td>\n      <td>...</td>\n      <td>...</td>\n      <td>...</td>\n      <td>...</td>\n      <td>...</td>\n      <td>...</td>\n      <td>...</td>\n      <td>...</td>\n      <td>...</td>\n    </tr>\n    <tr>\n      <th>17875</th>\n      <td>17876</td>\n      <td>Account Director - Distribution</td>\n      <td>Sales</td>\n      <td>vend is looking for some awesome new talent to...</td>\n      <td>just in case this is the first time you’ve vis...</td>\n      <td>to ace this role you:will eat comprehensive st...</td>\n      <td>what can you expect from us?we have an open cu...</td>\n      <td>0</td>\n      <td>1</td>\n      <td>1</td>\n      <td>...</td>\n      <td>Mid-Senior level</td>\n      <td>N/A</td>\n      <td>Computer Software</td>\n      <td>Sales</td>\n      <td>0</td>\n      <td>CA</td>\n      <td>ON</td>\n      <td>Toronto</td>\n      <td>N/A</td>\n      <td>N/A</td>\n    </tr>\n    <tr>\n      <th>17876</th>\n      <td>17877</td>\n      <td>Payroll Accountant</td>\n      <td>Accounting</td>\n      <td>weblinc is the e-commerce platform and service...</td>\n      <td>the payroll accountant will focus primarily on...</td>\n      <td>- b.a. or b.s. in accounting- desire to have f...</td>\n      <td>health &amp;amp; wellnessmedical planprescription ...</td>\n      <td>0</td>\n      <td>1</td>\n      <td>1</td>\n      <td>...</td>\n      <td>Mid-Senior level</td>\n      <td>Bachelor's Degree</td>\n      <td>Internet</td>\n      <td>Accounting/Auditing</td>\n      <td>0</td>\n      <td>US</td>\n      <td>PA</td>\n      <td>Philadelphia</td>\n      <td>N/A</td>\n      <td>N/A</td>\n    </tr>\n    <tr>\n      <th>17877</th>\n      <td>17878</td>\n      <td>Project Cost Control Staff Engineer - Cost Con...</td>\n      <td>N/A</td>\n      <td>we provide full time permanent positions for m...</td>\n      <td>experienced project cost control staff enginee...</td>\n      <td>at least 12 years professional experience.abil...</td>\n      <td>n/a</td>\n      <td>0</td>\n      <td>0</td>\n      <td>0</td>\n      <td>...</td>\n      <td>N/A</td>\n      <td>N/A</td>\n      <td>N/A</td>\n      <td>N/A</td>\n      <td>0</td>\n      <td>US</td>\n      <td>TX</td>\n      <td>Houston</td>\n      <td>N/A</td>\n      <td>N/A</td>\n    </tr>\n    <tr>\n      <th>17878</th>\n      <td>17879</td>\n      <td>Graphic Designer</td>\n      <td>N/A</td>\n      <td>n/a</td>\n      <td>nemsia studios is looking for an experienced v...</td>\n      <td>1. must be fluent in the latest versions of co...</td>\n      <td>competitive salary (compensation will be based...</td>\n      <td>0</td>\n      <td>0</td>\n      <td>1</td>\n      <td>...</td>\n      <td>Not Applicable</td>\n      <td>Professional</td>\n      <td>Graphic Design</td>\n      <td>Design</td>\n      <td>0</td>\n      <td>NG</td>\n      <td>LA</td>\n      <td>Lagos</td>\n      <td>N/A</td>\n      <td>N/A</td>\n    </tr>\n    <tr>\n      <th>17879</th>\n      <td>17880</td>\n      <td>Web Application Developers</td>\n      <td>Engineering</td>\n      <td>vend is looking for some awesome new talent to...</td>\n      <td>who are we?vend is an award winning web based ...</td>\n      <td>we want to hear from you if:you have an in-dep...</td>\n      <td>n/a</td>\n      <td>0</td>\n      <td>1</td>\n      <td>1</td>\n      <td>...</td>\n      <td>Mid-Senior level</td>\n      <td>N/A</td>\n      <td>Computer Software</td>\n      <td>Engineering</td>\n      <td>0</td>\n      <td>NZ</td>\n      <td>N</td>\n      <td>Wellington</td>\n      <td>N/A</td>\n      <td>N/A</td>\n    </tr>\n  </tbody>\n</table>\n<p>17880 rows × 21 columns</p>\n</div>"
     },
     "metadata": {},
     "execution_count": 128
    }
   ],
   "source": [
    "data"
   ]
  },
  {
   "cell_type": "code",
   "execution_count": 109,
   "metadata": {},
   "outputs": [],
   "source": [
    "#train test split - 0.8, 0.1, 0.1, execute after preprocessing\n",
    "#X_train, X_test, y_train, y_test = train_test_split(data, data[\"fraudulent\"], test_size= 0.10, random_state= 42, stratify= data[\"fraudulent\"])\n",
    "#X_tran, X_val, y_train, y_val = train_test_split(X_train, y_train, test_size= 0.11, random_state= 42, stratify= y_train)"
   ]
  },
  {
   "cell_type": "code",
   "execution_count": null,
   "metadata": {},
   "outputs": [],
   "source": []
  }
 ]
}