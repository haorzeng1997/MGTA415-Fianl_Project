{
  "nbformat": 4,
  "nbformat_minor": 0,
  "metadata": {
    "kernelspec": {
      "display_name": "Python 3",
      "language": "python",
      "name": "python3"
    },
    "language_info": {
      "codemirror_mode": {
        "name": "ipython",
        "version": 3
      },
      "file_extension": ".py",
      "mimetype": "text/x-python",
      "name": "python",
      "nbconvert_exporter": "python",
      "pygments_lexer": "ipython3",
      "version": "3.8.5"
    },
    "colab": {
      "name": "haoran.ipynb",
      "provenance": []
    }
  },
  "cells": [
    {
      "cell_type": "code",
      "metadata": {
        "id": "e51acSTqtWma"
      },
      "source": [
        "import pandas as pd\n",
        "import numpy as np\n",
        "import nltk\n",
        "from nltk.corpus import stopwords\n",
        "from sklearn.preprocessing import LabelEncoder\n",
        "from keras.preprocessing.text import Tokenizer\n",
        "from keras.preprocessing import sequence,text\n",
        "from sklearn.neighbors import KNeighborsClassifier\n",
        "from sklearn.cluster import KMeans\n",
        "from sklearn.metrics import accuracy_score \n",
        "from sklearn.metrics import classification_report\n",
        "from sklearn.model_selection import train_test_split"
      ],
      "execution_count": null,
      "outputs": []
    },
    {
      "cell_type": "code",
      "metadata": {
        "id": "4-DrPyWXtYwv"
      },
      "source": [
        "#hello"
      ],
      "execution_count": null,
      "outputs": []
    },
    {
      "cell_type": "code",
      "metadata": {
        "id": "zZOEuRXvtWmf"
      },
      "source": [
        "data = pd.read_csv(\"fake_job_postings.csv\")"
      ],
      "execution_count": null,
      "outputs": []
    },
    {
      "cell_type": "code",
      "metadata": {
        "id": "d1Vc4CnctWmg"
      },
      "source": [
        "location = data[\"location\"].str.split(\",\", expand= True, n= 2)\n",
        "location.columns = [\"country\", \"state\", \"city\"]\n",
        "data[[\"country\", \"state\", \"city\"]] = location\n",
        "data = data.drop(columns= \"location\")"
      ],
      "execution_count": null,
      "outputs": []
    },
    {
      "cell_type": "code",
      "metadata": {
        "id": "QzDA6VODtWmg"
      },
      "source": [
        "salary = data[\"salary_range\"].str.split(\"-\", expand= True, n= 1)\n",
        "data[[\"min_salary\", \"max_salary\"]] = salary\n",
        "data = data.drop(columns= \"salary_range\")"
      ],
      "execution_count": null,
      "outputs": []
    },
    {
      "cell_type": "code",
      "metadata": {
        "id": "4f_DCaLwtWmh"
      },
      "source": [
        "data = data.fillna(\"N/A\")\n",
        "data[\"state\"] = data[\"state\"].str.strip().apply(lambda x: \"N/A\" if x == '' else x)\n",
        "data[\"country\"] = data[\"country\"].str.strip().apply(lambda x: \"N/A\" if x == '' else x)\n",
        "data[\"city\"] = data[\"city\"].str.strip().apply(lambda x: \"N/A\" if x == '' else x)"
      ],
      "execution_count": null,
      "outputs": []
    },
    {
      "cell_type": "code",
      "metadata": {
        "id": "ykfttkKgtWmh"
      },
      "source": [
        "for i in [\"company_profile\", \"description\", \"requirements\", \"benefits\"]:\n",
        "    data[i] = data[i].str.lower()"
      ],
      "execution_count": null,
      "outputs": []
    },
    {
      "cell_type": "code",
      "metadata": {
        "id": "LvgadYETtWmh",
        "outputId": "97493728-98cc-4b3a-c569-405377ef30bc"
      },
      "source": [
        "data.isnull().sum()"
      ],
      "execution_count": null,
      "outputs": [
        {
          "output_type": "execute_result",
          "data": {
            "text/plain": [
              "job_id                 0\n",
              "title                  0\n",
              "department             0\n",
              "company_profile        0\n",
              "description            0\n",
              "requirements           0\n",
              "benefits               0\n",
              "telecommuting          0\n",
              "has_company_logo       0\n",
              "has_questions          0\n",
              "employment_type        0\n",
              "required_experience    0\n",
              "required_education     0\n",
              "industry               0\n",
              "function               0\n",
              "fraudulent             0\n",
              "country                0\n",
              "state                  0\n",
              "city                   0\n",
              "min_salary             0\n",
              "max_salary             0\n",
              "dtype: int64"
            ]
          },
          "metadata": {
            "tags": []
          },
          "execution_count": 9
        }
      ]
    },
    {
      "cell_type": "markdown",
      "metadata": {
        "id": "ObFrRXkYtWmi"
      },
      "source": [
        "<h2>Prototype Selection with K-Means</h2>"
      ]
    },
    {
      "cell_type": "code",
      "metadata": {
        "id": "BdfWUR3ttWmi"
      },
      "source": [
        "data['text'] = data['title'].str.cat(data[['country', 'state', 'city', 'department','min_salary', 'max_salary','company_profile','description','requirements',\n",
        "                                    'benefits','employment_type','required_education', 'required_experience', 'industry',\n",
        "                                    'function']].astype(str), sep=' ')"
      ],
      "execution_count": null,
      "outputs": []
    },
    {
      "cell_type": "code",
      "metadata": {
        "id": "KJMV_LHLtWmj"
      },
      "source": [
        "data['text']=data.text.str.replace(r'\\W',' ',regex=True)\n",
        "data['text']=data.text.str.replace(r'\\b\\d+','',regex=True)\n",
        "data['text']=data.text.str.replace(r'\\S{20,}',' ',regex=True)\n",
        "data['text']=data.text.str.replace(r'\\s{2,}',' ',regex=True)"
      ],
      "execution_count": null,
      "outputs": []
    },
    {
      "cell_type": "code",
      "metadata": {
        "id": "nrMI-a8FtWmj"
      },
      "source": [
        "stop = ['i', 'me', 'my', 'myself', 'we', 'our', 'ours', 'ourselves', 'you', \"you're\", \"you've\", \"you'll\", \"you'd\", 'your', 'yours', 'yourself', 'yourselves', 'he', 'him', 'his', 'himself', 'she', \"she's\", 'her', 'hers', 'herself', 'it', \"it's\", 'its', 'itself', 'they', 'them', 'their', 'theirs', 'themselves', 'what', 'which', 'who', 'whom', 'this', 'that', \"that'll\", 'these', 'those', 'am', 'is', 'are', 'was', 'were', 'be', 'been', 'being', 'have', 'has', 'had', 'having', 'do', 'does', 'did', 'doing', 'a', 'an', 'the', 'and', 'but', 'if', 'or', 'because', 'as', 'until', 'while', 'of', 'at', 'by', 'for', 'with', 'about', 'against', 'between', 'into', 'through', 'during', 'before', 'after', 'above', 'below', 'to', 'from', 'up', 'down', 'in', 'out', 'on', 'off', 'over', 'under', 'again', 'further', 'then', 'once', 'here', 'there', 'when', 'where', 'why', 'how', 'all', 'any', 'both', 'each', 'few', 'more', 'most', 'other', 'some', 'such', 'no', 'nor', 'not', 'only', 'own', 'same', 'so', 'than', 'too', 'very', 's', 't', 'can', 'will', 'just', 'don', \"don't\", 'should', \"should've\", 'now', 'd', 'll', 'm', 'o', 're', 've', 'y', 'ain', 'aren', \"aren't\", 'couldn', \"couldn't\", 'didn', \"didn't\", 'doesn', \"doesn't\", 'hadn', \"hadn't\", 'hasn', \"hasn't\", 'haven', \"haven't\", 'isn', \"isn't\", 'ma', 'mightn', \"mightn't\", 'mustn', \"mustn't\", 'needn', \"needn't\", 'shan', \"shan't\", 'shouldn', \"shouldn't\", 'wasn', \"wasn't\", 'weren', \"weren't\", 'won', \"won't\", 'wouldn', \"wouldn't\"]\n",
        "data['text'] = data['text'].apply(lambda x: ' '.join([word for word in x.split() if word not in (stop)]))"
      ],
      "execution_count": null,
      "outputs": []
    },
    {
      "cell_type": "code",
      "metadata": {
        "id": "ZqRsrvhHtWmj"
      },
      "source": [
        "num_max = 1000000\n",
        "max_len = 400\n",
        "\n",
        "tok = Tokenizer(num_words=num_max)\n",
        "tok.fit_on_texts(data.text)\n",
        "non_fraud_matrix = tok.texts_to_matrix(data[data[\"fraudulent\"] == 0].text, mode='tfidf')\n",
        "fraud_matrix = tok.texts_to_matrix(data[data[\"fraudulent\"] == 1].text, mode='tfidf')"
      ],
      "execution_count": null,
      "outputs": []
    },
    {
      "cell_type": "code",
      "metadata": {
        "id": "MEYk6YbItWmj",
        "outputId": "137310f2-8f80-44de-c5db-5c308838ebc1"
      },
      "source": [
        "data.fraudulent.value_counts()"
      ],
      "execution_count": null,
      "outputs": [
        {
          "output_type": "execute_result",
          "data": {
            "text/plain": [
              "0    17014\n",
              "1      866\n",
              "Name: fraudulent, dtype: int64"
            ]
          },
          "metadata": {
            "tags": []
          },
          "execution_count": 14
        }
      ]
    },
    {
      "cell_type": "code",
      "metadata": {
        "id": "iO6-gt43tWmk"
      },
      "source": [
        "#Use K-means to select 866 non-fraudulent cases\n",
        "km = KMeans(n_clusters= 886, random_state= 42).fit(non_fraud_matrix)\n",
        "km_centers = km.cluster_centers_"
      ],
      "execution_count": null,
      "outputs": []
    },
    {
      "cell_type": "code",
      "metadata": {
        "id": "EUk804a4tWmk"
      },
      "source": [
        ""
      ],
      "execution_count": null,
      "outputs": []
    },
    {
      "cell_type": "code",
      "metadata": {
        "id": "Z4ZbqH0dtWmk"
      },
      "source": [
        "#train test split - 0.8, 0.1, 0.1, execute after preprocessing\n",
        "#X_train, X_test, y_train, y_test = train_test_split(data, data[\"fraudulent\"], test_size= 0.10, random_state= 42, stratify= data[\"fraudulent\"])\n",
        "#X_tran, X_val, y_train, y_val = train_test_split(X_train, y_train, test_size= 0.11, random_state= 42, stratify= y_train)"
      ],
      "execution_count": null,
      "outputs": []
    },
    {
      "cell_type": "code",
      "metadata": {
        "id": "fgsHqID1tWmk"
      },
      "source": [
        ""
      ],
      "execution_count": null,
      "outputs": []
    }
  ]
}