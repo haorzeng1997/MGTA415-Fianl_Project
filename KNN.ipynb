{
  "nbformat": 4,
  "nbformat_minor": 0,
  "metadata": {
    "kernelspec": {
      "display_name": "Python 3",
      "language": "python",
      "name": "python3"
    },
    "language_info": {
      "codemirror_mode": {
        "name": "ipython",
        "version": 3
      },
      "file_extension": ".py",
      "mimetype": "text/x-python",
      "name": "python",
      "nbconvert_exporter": "python",
      "pygments_lexer": "ipython3",
      "version": "3.8.5"
    },
    "colab": {
      "name": "kmeans+knn+tfidf.ipynb",
      "provenance": []
    }
  },
  "cells": [
    {
      "cell_type": "code",
      "metadata": {
        "colab": {
          "base_uri": "https://localhost:8080/"
        },
        "id": "bcGP7J_j5OU7",
        "outputId": "dbe326f9-1633-4b60-b33d-5a0364de33d4"
      },
      "source": [
        "import pandas as pd\n",
        "import numpy as np\n",
        "from sklearn.model_selection import train_test_split\n",
        "from sklearn.feature_extraction.text import CountVectorizer\n",
        "from sklearn.model_selection import train_test_split\n",
        "from sklearn.feature_extraction.text import TfidfVectorizer\n",
        "from sklearn.metrics import accuracy_score\n",
        "from sklearn.metrics import f1_score\n",
        "from sklearn.preprocessing import LabelEncoder\n",
        "import collections\n",
        "from sklearn.preprocessing import StandardScaler\n",
        "from scipy.sparse import hstack\n",
        "import nltk\n",
        "nltk.download('punkt')\n",
        "from nltk.tokenize import word_tokenize\n",
        "from nltk.tokenize import sent_tokenize\n",
        "from nltk.stem import PorterStemmer\n",
        "nltk.download('stopwords')\n",
        "from nltk.corpus import stopwords\n",
        "from xgboost import XGBClassifier\n",
        "from sklearn.model_selection import RandomizedSearchCV, GridSearchCV\n",
        "from sklearn.metrics import roc_auc_score\n",
        "from sklearn.model_selection import StratifiedKFold\n",
        "from sklearn.metrics import accuracy_score\n",
        "from sklearn.metrics import classification_report\n",
        "from sklearn.metrics import roc_auc_score\n",
        "from sklearn import metrics\n",
        "from sklearn.neighbors import KNeighborsClassifier\n",
        "from sklearn.cluster import KMeans"
      ],
      "execution_count": 1,
      "outputs": [
        {
          "output_type": "stream",
          "text": [
            "[nltk_data] Downloading package punkt to /root/nltk_data...\n",
            "[nltk_data]   Unzipping tokenizers/punkt.zip.\n",
            "[nltk_data] Downloading package stopwords to /root/nltk_data...\n",
            "[nltk_data]   Unzipping corpora/stopwords.zip.\n"
          ],
          "name": "stdout"
        }
      ]
    },
    {
      "cell_type": "code",
      "metadata": {
        "id": "LNFq_ahz8z2D"
      },
      "source": [
        "from scipy import sparse\n",
        "import numpy as np\n",
        "from scipy import stats\n",
        "from scipy.sparse import vstack"
      ],
      "execution_count": 53,
      "outputs": []
    },
    {
      "cell_type": "code",
      "metadata": {
        "id": "BEBFJEeg5OVB"
      },
      "source": [
        "pd.set_option('display.max_columns', None)"
      ],
      "execution_count": 2,
      "outputs": []
    },
    {
      "cell_type": "code",
      "metadata": {
        "id": "Az-oCYbe5OVB"
      },
      "source": [
        "data = pd.read_csv(\"/content/fake_job_postings.csv\")"
      ],
      "execution_count": 3,
      "outputs": []
    },
    {
      "cell_type": "code",
      "metadata": {
        "id": "muydltNX5OVB"
      },
      "source": [
        "location = data[\"location\"].str.split(\",\", expand= True, n= 2)\n",
        "location.columns = [\"country\", \"state\", \"city\"]\n",
        "data[[\"country\", \"state\", \"city\"]] = location\n",
        "data = data.drop(columns= \"location\")"
      ],
      "execution_count": 4,
      "outputs": []
    },
    {
      "cell_type": "code",
      "metadata": {
        "id": "Qfjz9B5o5OVC"
      },
      "source": [
        "salary = data[\"salary_range\"].str.split(\"-\", expand= True, n= 1)\n",
        "data[[\"min_salary\", \"max_salary\"]] = salary\n",
        "data = data.drop(columns= \"salary_range\")"
      ],
      "execution_count": 5,
      "outputs": []
    },
    {
      "cell_type": "code",
      "metadata": {
        "id": "Eja0hVTt5OVC"
      },
      "source": [
        "data = data.fillna(\"N/A\")\n",
        "data[\"state\"] = data[\"state\"].str.strip().apply(lambda x: \"N/A\" if x == '' else x)\n",
        "data[\"country\"] = data[\"country\"].str.strip().apply(lambda x: \"N/A\" if x == '' else x)\n",
        "data[\"city\"] = data[\"city\"].str.strip().apply(lambda x: \"N/A\" if x == '' else x)"
      ],
      "execution_count": 6,
      "outputs": []
    },
    {
      "cell_type": "code",
      "metadata": {
        "id": "ndzt9XpP5OVC"
      },
      "source": [
        "for i in [\"company_profile\", \"description\", \"requirements\", \"benefits\"]:\n",
        "    data[i] = data[i].str.lower()"
      ],
      "execution_count": 7,
      "outputs": []
    },
    {
      "cell_type": "code",
      "metadata": {
        "colab": {
          "base_uri": "https://localhost:8080/"
        },
        "id": "WrSCckL75OVC",
        "outputId": "ad4fc851-cdb6-4838-a12c-6c7f9e60720d"
      },
      "source": [
        "data.isnull().sum()"
      ],
      "execution_count": 8,
      "outputs": [
        {
          "output_type": "execute_result",
          "data": {
            "text/plain": [
              "job_id                 0\n",
              "title                  0\n",
              "department             0\n",
              "company_profile        0\n",
              "description            0\n",
              "requirements           0\n",
              "benefits               0\n",
              "telecommuting          0\n",
              "has_company_logo       0\n",
              "has_questions          0\n",
              "employment_type        0\n",
              "required_experience    0\n",
              "required_education     0\n",
              "industry               0\n",
              "function               0\n",
              "fraudulent             0\n",
              "country                0\n",
              "state                  0\n",
              "city                   0\n",
              "min_salary             0\n",
              "max_salary             0\n",
              "dtype: int64"
            ]
          },
          "metadata": {
            "tags": []
          },
          "execution_count": 8
        }
      ]
    },
    {
      "cell_type": "markdown",
      "metadata": {
        "id": "YnGSV4bj5OVD"
      },
      "source": [
        "<h2>Prototype Selection with K-Means + TFIDF</h2>"
      ]
    },
    {
      "cell_type": "code",
      "metadata": {
        "id": "CxOXyxaA6kEM"
      },
      "source": [
        "# tokenizer define\n",
        "ps = PorterStemmer()\n",
        "stop = set(stopwords.words('english'))\n",
        "def tokenizer (doc):\n",
        "    sentences = sent_tokenize(doc)\n",
        "    tokens = []\n",
        "    for sent in sentences:\n",
        "        words = word_tokenize(sent)\n",
        "        words = [ps.stem(word) for word in words]\n",
        "        tokens+=words\n",
        "    return [w.lower() for w in tokens if w not in stop]"
      ],
      "execution_count": 9,
      "outputs": []
    },
    {
      "cell_type": "code",
      "metadata": {
        "id": "eamEWngC6w6H"
      },
      "source": [
        "# combine text features and vectorize\n",
        "df1 = data.copy()\n",
        "text_feature = df1[['title', 'department','company_profile','description','requirements','benefits']].apply(lambda x: ' '.join(x), axis = 1)\n",
        "\n",
        "tfidf = TfidfVectorizer(strip_accents=None,\n",
        "                        lowercase=True,\n",
        "                        preprocessor=None,  # applied preprocessor in Data Cleaning\n",
        "                        tokenizer=tokenizer,\n",
        "                        use_idf=True,\n",
        "                        norm='l2',\n",
        "                        smooth_idf=True)\n",
        "\n",
        "text_feature = tfidf.fit_transform(text_feature)"
      ],
      "execution_count": 10,
      "outputs": []
    },
    {
      "cell_type": "code",
      "metadata": {
        "id": "a9KubHkP6y_0"
      },
      "source": [
        "lb = LabelEncoder()\n",
        "\n",
        "for col in ['employment_type', 'required_experience', 'required_education', 'industry', 'function', 'country',\n",
        "       'state', 'city']:\n",
        "    df1[col] = lb.fit_transform(df1[col])"
      ],
      "execution_count": 11,
      "outputs": []
    },
    {
      "cell_type": "code",
      "metadata": {
        "id": "B4XuIauB63Ib"
      },
      "source": [
        "# scale\n",
        "label_feature = df1[['employment_type', 'required_experience', 'required_education', 'industry', 'function', 'country',\n",
        "       'state', 'city']]\n",
        "scaler = StandardScaler().fit(label_feature)\n",
        "\n",
        "label_feature = scaler.transform(label_feature)"
      ],
      "execution_count": 12,
      "outputs": []
    },
    {
      "cell_type": "code",
      "metadata": {
        "id": "xJ6B_H3p7Ueg"
      },
      "source": [
        "X = hstack((text_feature, label_feature))\n",
        "y = df1['fraudulent']"
      ],
      "execution_count": 13,
      "outputs": []
    },
    {
      "cell_type": "code",
      "metadata": {
        "id": "OE7bkHeh7zAD"
      },
      "source": [
        "X_train, X_test, y_train, y_test = train_test_split(X, y, test_size= 0.10, random_state= 42, stratify= y)\n",
        "X_train, X_val, y_train, y_val = train_test_split(X_train, y_train, test_size= 0.11, random_state= 42, stratify= y_train)"
      ],
      "execution_count": 17,
      "outputs": []
    },
    {
      "cell_type": "code",
      "metadata": {
        "id": "i-LDeQ-6-jxd"
      },
      "source": [
        "kmx = X_train[np.array(y_train == 0), :]"
      ],
      "execution_count": 49,
      "outputs": []
    },
    {
      "cell_type": "code",
      "metadata": {
        "id": "OpmUDiIF_laP",
        "outputId": "1b66b3a6-6382-4e20-d2a0-ca962447cfff",
        "colab": {
          "base_uri": "https://localhost:8080/"
        }
      },
      "source": [
        "y_train.value_counts()"
      ],
      "execution_count": 50,
      "outputs": [
        {
          "output_type": "execute_result",
          "data": {
            "text/plain": [
              "0    13628\n",
              "1      693\n",
              "Name: fraudulent, dtype: int64"
            ]
          },
          "metadata": {
            "tags": []
          },
          "execution_count": 50
        }
      ]
    },
    {
      "cell_type": "code",
      "metadata": {
        "id": "n4uEEnGc5OVF"
      },
      "source": [
        "#Use K-means to select 693 non-fraudulent cases\n",
        "km = KMeans(n_clusters= 693, random_state= 42).fit(kmx)\n",
        "non_fraud_centers = km.cluster_centers_"
      ],
      "execution_count": 51,
      "outputs": []
    },
    {
      "cell_type": "code",
      "metadata": {
        "id": "wWjzlA905OVF"
      },
      "source": [
        "X_train_ps = vstack([sparse.csr_matrix(non_fraud_centers), X_train[np.array(y_train == 1), :]])\n",
        "y_train_ps = np.concatenate([np.repeat(0, 693), np.repeat(1, 693)])"
      ],
      "execution_count": 65,
      "outputs": []
    },
    {
      "cell_type": "code",
      "metadata": {
        "colab": {
          "base_uri": "https://localhost:8080/"
        },
        "id": "Gpa_x_ht5OVG",
        "outputId": "3551e548-e4ef-41fc-f539-50c2994935ce"
      },
      "source": [
        "#KNN\n",
        "knn = KNeighborsClassifier(n_neighbors= 1)\n",
        "knn.fit(X_train_ps, y_train_ps)\n",
        "y_val_pred = knn.predict(X_val)\n",
        "print(classification_report(y_val, y_val_pred))"
      ],
      "execution_count": 97,
      "outputs": [
        {
          "output_type": "stream",
          "text": [
            "              precision    recall  f1-score   support\n",
            "\n",
            "           0       0.98      0.98      0.98      1685\n",
            "           1       0.61      0.60      0.61        86\n",
            "\n",
            "    accuracy                           0.96      1771\n",
            "   macro avg       0.80      0.79      0.79      1771\n",
            "weighted avg       0.96      0.96      0.96      1771\n",
            "\n"
          ],
          "name": "stdout"
        }
      ]
    },
    {
      "cell_type": "code",
      "metadata": {
        "id": "RsiM2DnbA37j",
        "outputId": "1c6b20d8-c8c7-4012-f52d-ecf834a99af3",
        "colab": {
          "base_uri": "https://localhost:8080/"
        }
      },
      "source": [
        "fpr, tpr, thresholds = metrics.roc_curve(y_val, y_val_pred)\n",
        "metrics.auc(fpr, tpr)"
      ],
      "execution_count": 98,
      "outputs": [
        {
          "output_type": "execute_result",
          "data": {
            "text/plain": [
              "0.7925332965288799"
            ]
          },
          "metadata": {
            "tags": []
          },
          "execution_count": 98
        }
      ]
    },
    {
      "cell_type": "code",
      "metadata": {
        "colab": {
          "base_uri": "https://localhost:8080/"
        },
        "id": "7HWZrjwx5OVG",
        "outputId": "8506ae1a-71da-4366-d91d-b8ff0d61fcaf"
      },
      "source": [
        "knn2 = KNeighborsClassifier(n_neighbors= 1)\n",
        "knn2.fit(X_train, y_train)\n",
        "y_val_pred_2 = knn2.predict(X_val)\n",
        "print(classification_report(y_val, y_val_pred_2))"
      ],
      "execution_count": 99,
      "outputs": [
        {
          "output_type": "stream",
          "text": [
            "              precision    recall  f1-score   support\n",
            "\n",
            "           0       0.98      0.99      0.98      1685\n",
            "           1       0.68      0.62      0.65        86\n",
            "\n",
            "    accuracy                           0.97      1771\n",
            "   macro avg       0.83      0.80      0.81      1771\n",
            "weighted avg       0.97      0.97      0.97      1771\n",
            "\n"
          ],
          "name": "stdout"
        }
      ]
    },
    {
      "cell_type": "code",
      "metadata": {
        "id": "0z7cro1cWpv0",
        "outputId": "bbb39f65-3968-4f61-e412-21365991d488",
        "colab": {
          "base_uri": "https://localhost:8080/"
        }
      },
      "source": [
        "fpr, tpr, thresholds = metrics.roc_curve(y_val, y_val_pred_2)\n",
        "metrics.auc(fpr, tpr)"
      ],
      "execution_count": 100,
      "outputs": [
        {
          "output_type": "execute_result",
          "data": {
            "text/plain": [
              "0.8007211372576082"
            ]
          },
          "metadata": {
            "tags": []
          },
          "execution_count": 100
        }
      ]
    },
    {
      "cell_type": "code",
      "metadata": {
        "id": "HYDhXOak9i9a"
      },
      "source": [
        "y_val_test_2 = knn2.predict(X_test)\n",
        "print(classification_report(y_test, y_val_test_2))"
      ],
      "execution_count": null,
      "outputs": []
    },
    {
      "cell_type": "code",
      "metadata": {
        "id": "4JX-cjg39jtC"
      },
      "source": [
        "fpr, tpr, thresholds = metrics.roc_curve(y_test, y_val_test_2)\n",
        "metrics.auc(fpr, tpr)"
      ],
      "execution_count": null,
      "outputs": []
    },
    {
      "cell_type": "markdown",
      "metadata": {
        "id": "bvp6tRqQBpmY"
      },
      "source": [
        "<h2>Prototype Selection with K-Means + Countvectorizer</h2>"
      ]
    },
    {
      "cell_type": "code",
      "metadata": {
        "id": "lpKk8rthBnlR"
      },
      "source": [
        "# combine text features and vectorize\n",
        "df2 = data.copy()\n",
        "text_feature = df2[['title', 'department','company_profile','description','requirements','benefits']].apply(lambda x: ' '.join(x), axis = 1)\n",
        "\n",
        "bow = CountVectorizer(tokenizer=tokenizer)\n",
        "\n",
        "text_feature = bow.fit_transform(text_feature)"
      ],
      "execution_count": 101,
      "outputs": []
    },
    {
      "cell_type": "code",
      "metadata": {
        "id": "ujbv6sogB39f"
      },
      "source": [
        "# encode label features\n",
        "lb = LabelEncoder()\n",
        "\n",
        "for col in ['employment_type', 'required_experience', 'required_education', 'industry', 'function', 'country',\n",
        "       'state', 'city']:\n",
        "    df2[col] = lb.fit_transform(df2[col])\n"
      ],
      "execution_count": 102,
      "outputs": []
    },
    {
      "cell_type": "code",
      "metadata": {
        "id": "SppotVx-B599"
      },
      "source": [
        "# scale\n",
        "label_feature = df2[['employment_type', 'required_experience', 'required_education', 'industry', 'function', 'country',\n",
        "       'state', 'city']]\n",
        "scaler = StandardScaler().fit(label_feature)\n",
        "\n",
        "label_feature = scaler.transform(label_feature)"
      ],
      "execution_count": 103,
      "outputs": []
    },
    {
      "cell_type": "code",
      "metadata": {
        "id": "T84EvDo9B91T"
      },
      "source": [
        "X = hstack((text_feature, label_feature))\n",
        "y = df1['fraudulent']\n",
        "X_train, X_test, y_train, y_test = train_test_split(X, y, test_size= 0.10, random_state= 42, stratify= y)\n",
        "X_train, X_val, y_train, y_val = train_test_split(X_train, y_train, test_size= 0.11, random_state= 42, stratify= y_train)\n",
        "kmx = X_train[np.array(y_train == 0), :]"
      ],
      "execution_count": 104,
      "outputs": []
    },
    {
      "cell_type": "code",
      "metadata": {
        "id": "vTRYNIpECDx0",
        "outputId": "5faf6649-b26d-4ff6-db7b-6780c49335d2",
        "colab": {
          "base_uri": "https://localhost:8080/"
        }
      },
      "source": [
        "y_train.value_counts()"
      ],
      "execution_count": 105,
      "outputs": [
        {
          "output_type": "execute_result",
          "data": {
            "text/plain": [
              "0    13628\n",
              "1      693\n",
              "Name: fraudulent, dtype: int64"
            ]
          },
          "metadata": {
            "tags": []
          },
          "execution_count": 105
        }
      ]
    },
    {
      "cell_type": "code",
      "metadata": {
        "id": "Na-_tDNHCGMW"
      },
      "source": [
        "#Use K-means to select 693 non-fraudulent cases\n",
        "km = KMeans(n_clusters= 693, random_state= 42).fit(kmx)\n",
        "non_fraud_centers = km.cluster_centers_"
      ],
      "execution_count": 106,
      "outputs": []
    },
    {
      "cell_type": "code",
      "metadata": {
        "id": "7z6bjuXiWEKu"
      },
      "source": [
        "X_train_ps = vstack([sparse.csr_matrix(non_fraud_centers), X_train[np.array(y_train == 1), :]])\n",
        "y_train_ps = np.concatenate([np.repeat(0, 693), np.repeat(1, 693)])"
      ],
      "execution_count": 107,
      "outputs": []
    },
    {
      "cell_type": "code",
      "metadata": {
        "id": "HIGqCJK3XG4H",
        "outputId": "a4a12613-83e8-4cbf-882a-336e5ec802fc",
        "colab": {
          "base_uri": "https://localhost:8080/"
        }
      },
      "source": [
        "#KNN\n",
        "knn = KNeighborsClassifier(n_neighbors= 1)\n",
        "knn.fit(X_train_ps, y_train_ps)\n",
        "y_val_pred = knn.predict(X_val)\n",
        "print(classification_report(y_val, y_val_pred))"
      ],
      "execution_count": 108,
      "outputs": [
        {
          "output_type": "stream",
          "text": [
            "              precision    recall  f1-score   support\n",
            "\n",
            "           0       0.98      1.00      0.99      1685\n",
            "           1       0.91      0.70      0.79        86\n",
            "\n",
            "    accuracy                           0.98      1771\n",
            "   macro avg       0.95      0.85      0.89      1771\n",
            "weighted avg       0.98      0.98      0.98      1771\n",
            "\n"
          ],
          "name": "stdout"
        }
      ]
    },
    {
      "cell_type": "code",
      "metadata": {
        "id": "D9nM2OPTABHM",
        "outputId": "05ceba82-bb31-4038-b396-098f4a21bac3",
        "colab": {
          "base_uri": "https://localhost:8080/"
        }
      },
      "source": [
        "y_val_pred = knn.predict(X_val)\n",
        "print(classification_report(y_val, y_val_pred, digits= 6))"
      ],
      "execution_count": 124,
      "outputs": [
        {
          "output_type": "stream",
          "text": [
            "              precision    recall  f1-score   support\n",
            "\n",
            "           0   0.984751  0.996439  0.990560      1685\n",
            "           1   0.909091  0.697674  0.789474        86\n",
            "\n",
            "    accuracy                       0.981931      1771\n",
            "   macro avg   0.946921  0.847057  0.890017      1771\n",
            "weighted avg   0.981077  0.981931  0.980796      1771\n",
            "\n"
          ],
          "name": "stdout"
        }
      ]
    },
    {
      "cell_type": "code",
      "metadata": {
        "id": "SIWWHwcRXKw2",
        "outputId": "250ae916-3b8d-449f-adca-2145c1cc92d4",
        "colab": {
          "base_uri": "https://localhost:8080/"
        }
      },
      "source": [
        "fpr, tpr, thresholds = metrics.roc_curve(y_val, y_val_pred)\n",
        "metrics.auc(fpr, tpr)"
      ],
      "execution_count": 109,
      "outputs": [
        {
          "output_type": "execute_result",
          "data": {
            "text/plain": [
              "0.8470567938720585"
            ]
          },
          "metadata": {
            "tags": []
          },
          "execution_count": 109
        }
      ]
    },
    {
      "cell_type": "code",
      "metadata": {
        "id": "zZHBcoRdAIB6",
        "outputId": "2bf89897-72e3-4e0d-f99b-96c5bcf470da",
        "colab": {
          "base_uri": "https://localhost:8080/"
        }
      },
      "source": [
        "y_test_pred = knn.predict(X_test)\n",
        "print(classification_report(y_test, y_test_pred, digits= 6))"
      ],
      "execution_count": 115,
      "outputs": [
        {
          "output_type": "stream",
          "text": [
            "              precision    recall  f1-score   support\n",
            "\n",
            "           0   0.984884  0.995885  0.990354      1701\n",
            "           1   0.897059  0.701149  0.787097        87\n",
            "\n",
            "    accuracy                       0.981544      1788\n",
            "   macro avg   0.940971  0.848517  0.888725      1788\n",
            "weighted avg   0.980610  0.981544  0.980464      1788\n",
            "\n"
          ],
          "name": "stdout"
        }
      ]
    },
    {
      "cell_type": "code",
      "metadata": {
        "id": "YzJR4UgzANHl",
        "outputId": "69760768-dbf1-429a-e8c0-94e05b29a446",
        "colab": {
          "base_uri": "https://localhost:8080/"
        }
      },
      "source": [
        "fpr, tpr, thresholds = metrics.roc_curve(y_test, y_test_pred)\n",
        "metrics.auc(fpr, tpr)"
      ],
      "execution_count": 116,
      "outputs": [
        {
          "output_type": "execute_result",
          "data": {
            "text/plain": [
              "0.848517099474954"
            ]
          },
          "metadata": {
            "tags": []
          },
          "execution_count": 116
        }
      ]
    },
    {
      "cell_type": "code",
      "metadata": {
        "id": "NAn0eRfaXMcs",
        "outputId": "60178808-bcb7-43e6-df03-f0e5f8c74d91",
        "colab": {
          "base_uri": "https://localhost:8080/"
        }
      },
      "source": [
        "knn2 = KNeighborsClassifier(n_neighbors= 1)\n",
        "knn2.fit(X_train, y_train)\n",
        "y_val_pred_2 = knn2.predict(X_val)\n",
        "print(classification_report(y_val, y_val_pred_2))"
      ],
      "execution_count": 110,
      "outputs": [
        {
          "output_type": "stream",
          "text": [
            "              precision    recall  f1-score   support\n",
            "\n",
            "           0       0.99      0.98      0.99      1685\n",
            "           1       0.69      0.83      0.75        86\n",
            "\n",
            "    accuracy                           0.97      1771\n",
            "   macro avg       0.84      0.90      0.87      1771\n",
            "weighted avg       0.98      0.97      0.97      1771\n",
            "\n"
          ],
          "name": "stdout"
        }
      ]
    },
    {
      "cell_type": "code",
      "metadata": {
        "id": "w_OwXfgTAXJl",
        "outputId": "c4323619-653e-4c68-928e-610b7312b10b",
        "colab": {
          "base_uri": "https://localhost:8080/"
        }
      },
      "source": [
        "print(classification_report(y_val, y_val_pred_2, digits= 6))"
      ],
      "execution_count": 117,
      "outputs": [
        {
          "output_type": "stream",
          "text": [
            "              precision    recall  f1-score   support\n",
            "\n",
            "           0   0.991007  0.981009  0.985983      1685\n",
            "           1   0.689320  0.825581  0.751323        86\n",
            "\n",
            "    accuracy                       0.973461      1771\n",
            "   macro avg   0.840164  0.903295  0.868653      1771\n",
            "weighted avg   0.976357  0.973461  0.974588      1771\n",
            "\n"
          ],
          "name": "stdout"
        }
      ]
    },
    {
      "cell_type": "code",
      "metadata": {
        "id": "Iucvnx9YXN7P",
        "outputId": "cd86ece1-1a8b-43b2-df6b-aa1a9c25b58d",
        "colab": {
          "base_uri": "https://localhost:8080/"
        }
      },
      "source": [
        "fpr, tpr, thresholds = metrics.roc_curve(y_val, y_val_pred_2)\n",
        "metrics.auc(fpr, tpr)"
      ],
      "execution_count": 111,
      "outputs": [
        {
          "output_type": "execute_result",
          "data": {
            "text/plain": [
              "0.9032951487129942"
            ]
          },
          "metadata": {
            "tags": []
          },
          "execution_count": 111
        }
      ]
    },
    {
      "cell_type": "code",
      "metadata": {
        "id": "4k5PV9-PAwtO",
        "outputId": "df92842d-2eb6-404f-c694-491458759994",
        "colab": {
          "base_uri": "https://localhost:8080/"
        }
      },
      "source": [
        "y_test_pred_2 = knn2.predict(X_test)\n",
        "print(classification_report(y_test, y_test_pred_2, digits= 6))"
      ],
      "execution_count": 121,
      "outputs": [
        {
          "output_type": "stream",
          "text": [
            "              precision    recall  f1-score   support\n",
            "\n",
            "           0   0.992294  0.984127  0.988194      1701\n",
            "           1   0.732673  0.850575  0.787234        87\n",
            "\n",
            "    accuracy                       0.977629      1788\n",
            "   macro avg   0.862484  0.917351  0.887714      1788\n",
            "weighted avg   0.979661  0.977629  0.978415      1788\n",
            "\n"
          ],
          "name": "stdout"
        }
      ]
    },
    {
      "cell_type": "code",
      "metadata": {
        "id": "xDfRwyUaA1RP",
        "outputId": "f92c37dd-b8b6-4466-e15b-9aac26aed007",
        "colab": {
          "base_uri": "https://localhost:8080/"
        }
      },
      "source": [
        "fpr, tpr, thresholds = metrics.roc_curve(y_test, y_test_pred_2)\n",
        "metrics.auc(fpr, tpr)"
      ],
      "execution_count": 122,
      "outputs": [
        {
          "output_type": "execute_result",
          "data": {
            "text/plain": [
              "0.9173508483853312"
            ]
          },
          "metadata": {
            "tags": []
          },
          "execution_count": 122
        }
      ]
    },
    {
      "cell_type": "markdown",
      "metadata": {
        "id": "gMdLmu91CddF"
      },
      "source": [
        "Glove"
      ]
    },
    {
      "cell_type": "code",
      "metadata": {
        "id": "2DNF1ubHCe_F"
      },
      "source": [
        "from gensim.test.utils import datapath, get_tmpfile\n",
        "from gensim.corpora import Dictionary\n",
        "from gensim.models import KeyedVectors, LdaModel, Word2Vec\n",
        "from gensim.scripts.glove2word2vec import glove2word2vec\n",
        "from gensim.test.utils import datapath, get_tmpfile\n",
        "import re\n",
        "# load the GloVe 6B embeddings\n",
        "\n",
        "glove_file = \"/content/glove.6B.100d.txt\"\n",
        "tmp_file = get_tmpfile(\"test_word2vec.txt\")\n",
        "\n",
        "_ = glove2word2vec(glove_file, tmp_file)\n",
        "glove_model = KeyedVectors.load_word2vec_format(tmp_file)"
      ],
      "execution_count": 127,
      "outputs": []
    },
    {
      "cell_type": "code",
      "metadata": {
        "id": "-Kj_Hy-CIKqw"
      },
      "source": [
        "df3 = data.copy()\n",
        "text_feature = df3[['title', 'department','company_profile','description','requirements','benefits']].apply(lambda x: ' '.join(x), axis = 1)"
      ],
      "execution_count": 128,
      "outputs": []
    },
    {
      "cell_type": "code",
      "metadata": {
        "id": "4J8W2kFtINnk"
      },
      "source": [
        "def word_averaging(model, sentence):\n",
        "    vectors = np.zeros(100)\n",
        "    words = re.sub(r\"\\W+\", \" \", sentence).split()\n",
        "    words = [w.lower() for w in words if w not in stop]\n",
        "   # words = [ps.stem(word) for word in words]\n",
        "    for i in words:\n",
        "        try:\n",
        "            vectors += model[i]\n",
        "        except KeyError:\n",
        "            pass\n",
        "    return vectors / len(words)"
      ],
      "execution_count": 129,
      "outputs": []
    },
    {
      "cell_type": "code",
      "metadata": {
        "id": "pa9SFdgIJGLh"
      },
      "source": [
        "# combine text features and vectorize\n",
        "df3 = data.copy()\n",
        "text = df3[['title', 'department','company_profile','description','requirements','benefits']].apply(lambda x: ' '.join(x), axis = 1)\n",
        "\n",
        "text_feature = list(word_averaging(glove_model, i) for i in text_feature)"
      ],
      "execution_count": 130,
      "outputs": []
    },
    {
      "cell_type": "code",
      "metadata": {
        "id": "Wx2H62PRJJni"
      },
      "source": [
        "# scale\n",
        "lb = LabelEncoder()\n",
        "\n",
        "for col in ['employment_type', 'required_experience', 'required_education', 'industry', 'function', 'country',\n",
        "       'state', 'city']:\n",
        "    df3[col] = lb.fit_transform(df3[col])\n",
        "\n",
        "label_feature = df3[['employment_type', 'required_experience', 'required_education', 'industry', 'function', 'country',\n",
        "       'state', 'city']]\n",
        "scaler = StandardScaler().fit(label_feature)\n",
        "\n",
        "label_feature = scaler.transform(label_feature)"
      ],
      "execution_count": 131,
      "outputs": []
    },
    {
      "cell_type": "code",
      "metadata": {
        "id": "BO3dOacEJLc8",
        "outputId": "dabdcf4b-c37e-457e-b637-11eb315abecd",
        "colab": {
          "base_uri": "https://localhost:8080/"
        }
      },
      "source": [
        "# build model\n",
        "X = pd.concat([pd.DataFrame(text_feature),pd.DataFrame(label_feature)],axis=1).set_axis(list(range(108)), axis=1, inplace=False)\n",
        "y = df3['fraudulent']\n",
        "\n",
        "X_train, X_test, y_train, y_test = train_test_split(X, y, test_size= 0.10, random_state= 42, stratify= y)\n",
        "X_train, X_val, y_train, y_val = train_test_split(X_train, y_train, test_size= 0.11, random_state= 42, stratify= y_train)\n",
        "\n",
        "glove_clf = KNeighborsClassifier(n_neighbors= 1)\n",
        "glove_clf.fit(X_train, y_train)"
      ],
      "execution_count": 132,
      "outputs": [
        {
          "output_type": "execute_result",
          "data": {
            "text/plain": [
              "KNeighborsClassifier(algorithm='auto', leaf_size=30, metric='minkowski',\n",
              "                     metric_params=None, n_jobs=None, n_neighbors=1, p=2,\n",
              "                     weights='uniform')"
            ]
          },
          "metadata": {
            "tags": []
          },
          "execution_count": 132
        }
      ]
    },
    {
      "cell_type": "code",
      "metadata": {
        "id": "7QlhveLgJjD4",
        "outputId": "8a0b24ba-d730-42d0-8045-be16d03e302b",
        "colab": {
          "base_uri": "https://localhost:8080/"
        }
      },
      "source": [
        "glove_clf = KNeighborsClassifier(n_neighbors= 1)\n",
        "glove_clf.fit(X_train, y_train)\n",
        "glove_val_pred = glove_clf.predict(X_val)\n",
        "print(classification_report(y_val, glove_val_pred, digits= 6))"
      ],
      "execution_count": 144,
      "outputs": [
        {
          "output_type": "stream",
          "text": [
            "              precision    recall  f1-score   support\n",
            "\n",
            "           0   0.978274  0.988724  0.983471      1685\n",
            "           1   0.720588  0.569767  0.636364        86\n",
            "\n",
            "    accuracy                       0.968379      1771\n",
            "   macro avg   0.849431  0.779246  0.809917      1771\n",
            "weighted avg   0.965760  0.968379  0.966615      1771\n",
            "\n"
          ],
          "name": "stdout"
        }
      ]
    },
    {
      "cell_type": "code",
      "metadata": {
        "id": "iw9VmwS0Jvfp",
        "outputId": "5a7d16f6-4d4e-4fc8-f0d5-f522232e6492",
        "colab": {
          "base_uri": "https://localhost:8080/"
        }
      },
      "source": [
        "fpr, tpr, thresholds = metrics.roc_curve(y_val, glove_val_pred)\n",
        "metrics.auc(fpr, tpr)"
      ],
      "execution_count": 145,
      "outputs": [
        {
          "output_type": "execute_result",
          "data": {
            "text/plain": [
              "0.779245738734387"
            ]
          },
          "metadata": {
            "tags": []
          },
          "execution_count": 145
        }
      ]
    },
    {
      "cell_type": "code",
      "metadata": {
        "id": "tL_SWwjaJ0m0",
        "outputId": "ebf4ed24-7c5c-4b70-9a36-1caa39236938",
        "colab": {
          "base_uri": "https://localhost:8080/"
        }
      },
      "source": [
        "glove_test_pred = glove_clf.predict(X_test)\n",
        "print(classification_report(y_test, glove_test_pred, digits= 6))"
      ],
      "execution_count": 146,
      "outputs": [
        {
          "output_type": "stream",
          "text": [
            "              precision    recall  f1-score   support\n",
            "\n",
            "           0   0.980198  0.989418  0.984786      1701\n",
            "           1   0.746479  0.609195  0.670886        87\n",
            "\n",
            "    accuracy                       0.970917      1788\n",
            "   macro avg   0.863338  0.799307  0.827836      1788\n",
            "weighted avg   0.968826  0.970917  0.969513      1788\n",
            "\n"
          ],
          "name": "stdout"
        }
      ]
    },
    {
      "cell_type": "code",
      "metadata": {
        "id": "vTUvG4U2J33m",
        "outputId": "70900435-9953-4d8a-8cbb-0be608162acf",
        "colab": {
          "base_uri": "https://localhost:8080/"
        }
      },
      "source": [
        "fpr, tpr, thresholds = metrics.roc_curve(y_test, glove_test_pred)\n",
        "metrics.auc(fpr, tpr)"
      ],
      "execution_count": 147,
      "outputs": [
        {
          "output_type": "execute_result",
          "data": {
            "text/plain": [
              "0.79930669585842"
            ]
          },
          "metadata": {
            "tags": []
          },
          "execution_count": 147
        }
      ]
    },
    {
      "cell_type": "code",
      "metadata": {
        "id": "_aqvj7HZLS5G"
      },
      "source": [
        ""
      ],
      "execution_count": null,
      "outputs": []
    }
  ]
}