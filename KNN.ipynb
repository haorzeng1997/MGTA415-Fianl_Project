{
 "cells": [
  {
   "cell_type": "code",
   "execution_count": 1,
   "metadata": {
    "colab": {
     "base_uri": "https://localhost:8080/"
    },
    "id": "bcGP7J_j5OU7",
    "outputId": "dbe326f9-1633-4b60-b33d-5a0364de33d4"
   },
   "outputs": [
    {
     "name": "stderr",
     "output_type": "stream",
     "text": [
      "[nltk_data] Downloading package punkt to /home/jovyan/nltk_data...\n",
      "[nltk_data]   Package punkt is already up-to-date!\n",
      "[nltk_data] Downloading package stopwords to /home/jovyan/nltk_data...\n",
      "[nltk_data]   Package stopwords is already up-to-date!\n"
     ]
    }
   ],
   "source": [
    "import pandas as pd\n",
    "import numpy as np\n",
    "from sklearn.model_selection import train_test_split\n",
    "from sklearn.feature_extraction.text import CountVectorizer\n",
    "from sklearn.model_selection import train_test_split\n",
    "from sklearn.feature_extraction.text import TfidfVectorizer\n",
    "from sklearn.metrics import accuracy_score\n",
    "from sklearn.metrics import f1_score\n",
    "from sklearn.preprocessing import LabelEncoder\n",
    "import collections\n",
    "from sklearn.preprocessing import StandardScaler\n",
    "from scipy.sparse import hstack\n",
    "import nltk\n",
    "nltk.download('punkt')\n",
    "from nltk.tokenize import word_tokenize\n",
    "from nltk.tokenize import sent_tokenize\n",
    "from nltk.stem import PorterStemmer\n",
    "nltk.download('stopwords')\n",
    "from nltk.corpus import stopwords\n",
    "from xgboost import XGBClassifier\n",
    "from sklearn.model_selection import RandomizedSearchCV, GridSearchCV\n",
    "from sklearn.metrics import roc_auc_score\n",
    "from sklearn.model_selection import StratifiedKFold\n",
    "from sklearn.metrics import accuracy_score\n",
    "from sklearn.metrics import classification_report\n",
    "from sklearn.metrics import roc_auc_score\n",
    "from sklearn import metrics\n",
    "from sklearn.neighbors import KNeighborsClassifier\n",
    "from sklearn.cluster import KMeans"
   ]
  },
  {
   "cell_type": "code",
   "execution_count": 2,
   "metadata": {
    "id": "LNFq_ahz8z2D"
   },
   "outputs": [],
   "source": [
    "from scipy import sparse\n",
    "import numpy as np\n",
    "from scipy import stats\n",
    "from scipy.sparse import vstack"
   ]
  },
  {
   "cell_type": "code",
   "execution_count": 3,
   "metadata": {
    "id": "BEBFJEeg5OVB"
   },
   "outputs": [],
   "source": [
    "pd.set_option('display.max_columns', None)"
   ]
  },
  {
   "cell_type": "code",
   "execution_count": 6,
   "metadata": {
    "id": "Az-oCYbe5OVB"
   },
   "outputs": [],
   "source": [
    "data = pd.read_csv(\"fake_job_postings.csv\")"
   ]
  },
  {
   "cell_type": "code",
   "execution_count": 7,
   "metadata": {
    "id": "muydltNX5OVB"
   },
   "outputs": [],
   "source": [
    "location = data[\"location\"].str.split(\",\", expand= True, n= 2)\n",
    "location.columns = [\"country\", \"state\", \"city\"]\n",
    "data[[\"country\", \"state\", \"city\"]] = location\n",
    "data = data.drop(columns= \"location\")"
   ]
  },
  {
   "cell_type": "code",
   "execution_count": 8,
   "metadata": {
    "id": "Qfjz9B5o5OVC"
   },
   "outputs": [],
   "source": [
    "salary = data[\"salary_range\"].str.split(\"-\", expand= True, n= 1)\n",
    "data[[\"min_salary\", \"max_salary\"]] = salary\n",
    "data = data.drop(columns= \"salary_range\")"
   ]
  },
  {
   "cell_type": "code",
   "execution_count": 9,
   "metadata": {
    "id": "Eja0hVTt5OVC"
   },
   "outputs": [],
   "source": [
    "data = data.fillna(\"N/A\")\n",
    "data[\"state\"] = data[\"state\"].str.strip().apply(lambda x: \"N/A\" if x == '' else x)\n",
    "data[\"country\"] = data[\"country\"].str.strip().apply(lambda x: \"N/A\" if x == '' else x)\n",
    "data[\"city\"] = data[\"city\"].str.strip().apply(lambda x: \"N/A\" if x == '' else x)"
   ]
  },
  {
   "cell_type": "code",
   "execution_count": 10,
   "metadata": {
    "id": "ndzt9XpP5OVC"
   },
   "outputs": [],
   "source": [
    "for i in [\"company_profile\", \"description\", \"requirements\", \"benefits\"]:\n",
    "    data[i] = data[i].str.lower()"
   ]
  },
  {
   "cell_type": "code",
   "execution_count": 11,
   "metadata": {
    "colab": {
     "base_uri": "https://localhost:8080/"
    },
    "id": "WrSCckL75OVC",
    "outputId": "ad4fc851-cdb6-4838-a12c-6c7f9e60720d"
   },
   "outputs": [
    {
     "data": {
      "text/plain": [
       "job_id                 0\n",
       "title                  0\n",
       "department             0\n",
       "company_profile        0\n",
       "description            0\n",
       "requirements           0\n",
       "benefits               0\n",
       "telecommuting          0\n",
       "has_company_logo       0\n",
       "has_questions          0\n",
       "employment_type        0\n",
       "required_experience    0\n",
       "required_education     0\n",
       "industry               0\n",
       "function               0\n",
       "fraudulent             0\n",
       "country                0\n",
       "state                  0\n",
       "city                   0\n",
       "min_salary             0\n",
       "max_salary             0\n",
       "dtype: int64"
      ]
     },
     "execution_count": 11,
     "metadata": {},
     "output_type": "execute_result"
    }
   ],
   "source": [
    "data.isnull().sum()"
   ]
  },
  {
   "cell_type": "markdown",
   "metadata": {
    "id": "YnGSV4bj5OVD"
   },
   "source": [
    "<h2>Prototype Selection with K-Means + TFIDF</h2>"
   ]
  },
  {
   "cell_type": "code",
   "execution_count": 12,
   "metadata": {
    "id": "CxOXyxaA6kEM"
   },
   "outputs": [],
   "source": [
    "# tokenizer define\n",
    "ps = PorterStemmer()\n",
    "stop = set(stopwords.words('english'))\n",
    "def tokenizer (doc):\n",
    "    sentences = sent_tokenize(doc)\n",
    "    tokens = []\n",
    "    for sent in sentences:\n",
    "        words = word_tokenize(sent)\n",
    "        words = [ps.stem(word) for word in words]\n",
    "        tokens+=words\n",
    "    return [w.lower() for w in tokens if w not in stop]"
   ]
  },
  {
   "cell_type": "code",
   "execution_count": 13,
   "metadata": {
    "id": "eamEWngC6w6H"
   },
   "outputs": [],
   "source": [
    "# combine text features and vectorize\n",
    "df1 = data.copy()\n",
    "text_feature = df1[['title', 'department','company_profile','description','requirements','benefits']].apply(lambda x: ' '.join(x), axis = 1)\n",
    "\n",
    "tfidf = TfidfVectorizer(strip_accents=None,\n",
    "                        lowercase=True,\n",
    "                        preprocessor=None,  # applied preprocessor in Data Cleaning\n",
    "                        tokenizer=tokenizer,\n",
    "                        use_idf=True,\n",
    "                        norm='l2',\n",
    "                        smooth_idf=True)\n",
    "\n",
    "text_feature = tfidf.fit_transform(text_feature)"
   ]
  },
  {
   "cell_type": "code",
   "execution_count": 14,
   "metadata": {
    "id": "a9KubHkP6y_0"
   },
   "outputs": [],
   "source": [
    "lb = LabelEncoder()\n",
    "\n",
    "for col in ['employment_type', 'required_experience', 'required_education', 'industry', 'function', 'country',\n",
    "       'state', 'city']:\n",
    "    df1[col] = lb.fit_transform(df1[col])"
   ]
  },
  {
   "cell_type": "code",
   "execution_count": 15,
   "metadata": {
    "id": "B4XuIauB63Ib"
   },
   "outputs": [],
   "source": [
    "# scale\n",
    "label_feature = df1[['employment_type', 'required_experience', 'required_education', 'industry', 'function', 'country',\n",
    "       'state', 'city']]\n",
    "scaler = StandardScaler().fit(label_feature)\n",
    "\n",
    "label_feature = scaler.transform(label_feature)"
   ]
  },
  {
   "cell_type": "code",
   "execution_count": 16,
   "metadata": {
    "id": "xJ6B_H3p7Ueg"
   },
   "outputs": [],
   "source": [
    "X = hstack((text_feature, label_feature))\n",
    "y = df1['fraudulent']"
   ]
  },
  {
   "cell_type": "code",
   "execution_count": 17,
   "metadata": {
    "id": "OE7bkHeh7zAD"
   },
   "outputs": [],
   "source": [
    "X_train, X_test, y_train, y_test = train_test_split(X, y, test_size= 0.10, random_state= 42, stratify= y)\n",
    "X_train, X_val, y_train, y_val = train_test_split(X_train, y_train, test_size= 0.11, random_state= 42, stratify= y_train)"
   ]
  },
  {
   "cell_type": "code",
   "execution_count": 18,
   "metadata": {
    "id": "i-LDeQ-6-jxd"
   },
   "outputs": [],
   "source": [
    "kmx = X_train[np.array(y_train == 0), :]"
   ]
  },
  {
   "cell_type": "code",
   "execution_count": 19,
   "metadata": {
    "colab": {
     "base_uri": "https://localhost:8080/"
    },
    "id": "OpmUDiIF_laP",
    "outputId": "1b66b3a6-6382-4e20-d2a0-ca962447cfff"
   },
   "outputs": [
    {
     "data": {
      "text/plain": [
       "0    13628\n",
       "1      693\n",
       "Name: fraudulent, dtype: int64"
      ]
     },
     "execution_count": 19,
     "metadata": {},
     "output_type": "execute_result"
    }
   ],
   "source": [
    "y_train.value_counts()"
   ]
  },
  {
   "cell_type": "code",
   "execution_count": 20,
   "metadata": {
    "id": "n4uEEnGc5OVF"
   },
   "outputs": [],
   "source": [
    "#Use K-means to select 693 non-fraudulent cases\n",
    "km = KMeans(n_clusters= 693, random_state= 42).fit(kmx)\n",
    "non_fraud_centers = km.cluster_centers_"
   ]
  },
  {
   "cell_type": "code",
   "execution_count": 21,
   "metadata": {
    "id": "wWjzlA905OVF"
   },
   "outputs": [],
   "source": [
    "X_train_ps = vstack([sparse.csr_matrix(non_fraud_centers), X_train[np.array(y_train == 1), :]])\n",
    "y_train_ps = np.concatenate([np.repeat(0, 693), np.repeat(1, 693)])"
   ]
  },
  {
   "cell_type": "code",
   "execution_count": 22,
   "metadata": {
    "colab": {
     "base_uri": "https://localhost:8080/"
    },
    "id": "Gpa_x_ht5OVG",
    "outputId": "3551e548-e4ef-41fc-f539-50c2994935ce"
   },
   "outputs": [
    {
     "name": "stdout",
     "output_type": "stream",
     "text": [
      "              precision    recall  f1-score   support\n",
      "\n",
      "           0   0.979894  0.983383  0.981635      1685\n",
      "           1   0.650000  0.604651  0.626506        86\n",
      "\n",
      "    accuracy                       0.964992      1771\n",
      "   macro avg   0.814947  0.794017  0.804071      1771\n",
      "weighted avg   0.963874  0.964992  0.964390      1771\n",
      "\n"
     ]
    }
   ],
   "source": [
    "#KNN\n",
    "knn = KNeighborsClassifier(n_neighbors= 1)\n",
    "knn.fit(X_train_ps, y_train_ps)\n",
    "y_val_pred = knn.predict(X_val)\n",
    "print(classification_report(y_val, y_val_pred, digits= 6))"
   ]
  },
  {
   "cell_type": "code",
   "execution_count": 23,
   "metadata": {
    "colab": {
     "base_uri": "https://localhost:8080/"
    },
    "id": "RsiM2DnbA37j",
    "outputId": "1c6b20d8-c8c7-4012-f52d-ecf834a99af3"
   },
   "outputs": [
    {
     "data": {
      "text/plain": [
       "0.7940169760541025"
      ]
     },
     "execution_count": 23,
     "metadata": {},
     "output_type": "execute_result"
    }
   ],
   "source": [
    "fpr, tpr, thresholds = metrics.roc_curve(y_val, y_val_pred)\n",
    "metrics.auc(fpr, tpr)"
   ]
  },
  {
   "cell_type": "code",
   "execution_count": 24,
   "metadata": {},
   "outputs": [
    {
     "name": "stdout",
     "output_type": "stream",
     "text": [
      "              precision    recall  f1-score   support\n",
      "\n",
      "           0   0.979520  0.984127  0.981818      1701\n",
      "           1   0.658228  0.597701  0.626506        87\n",
      "\n",
      "    accuracy                       0.965324      1788\n",
      "   macro avg   0.818874  0.790914  0.804162      1788\n",
      "weighted avg   0.963887  0.965324  0.964530      1788\n",
      "\n"
     ]
    }
   ],
   "source": [
    "y_test_pred_2 = knn.predict(X_test)\n",
    "print(classification_report(y_test, y_test_pred_2, digits= 6))"
   ]
  },
  {
   "cell_type": "code",
   "execution_count": 25,
   "metadata": {},
   "outputs": [
    {
     "data": {
      "text/plain": [
       "0.7909140667761358"
      ]
     },
     "execution_count": 25,
     "metadata": {},
     "output_type": "execute_result"
    }
   ],
   "source": [
    "fpr, tpr, thresholds = metrics.roc_curve(y_test, y_test_pred_2)\n",
    "metrics.auc(fpr, tpr)"
   ]
  },
  {
   "cell_type": "code",
   "execution_count": 26,
   "metadata": {
    "colab": {
     "base_uri": "https://localhost:8080/"
    },
    "id": "7HWZrjwx5OVG",
    "outputId": "8506ae1a-71da-4366-d91d-b8ff0d61fcaf"
   },
   "outputs": [
    {
     "name": "stdout",
     "output_type": "stream",
     "text": [
      "              precision    recall  f1-score   support\n",
      "\n",
      "           0   0.980508  0.985163  0.982830      1685\n",
      "           1   0.679487  0.616279  0.646341        86\n",
      "\n",
      "    accuracy                       0.967250      1771\n",
      "   macro avg   0.829998  0.800721  0.814586      1771\n",
      "weighted avg   0.965890  0.967250  0.966490      1771\n",
      "\n"
     ]
    }
   ],
   "source": [
    "knn2 = KNeighborsClassifier(n_neighbors= 1)\n",
    "knn2.fit(X_train, y_train)\n",
    "y_val_pred_2 = knn2.predict(X_val)\n",
    "print(classification_report(y_val, y_val_pred_2, digits= 6))"
   ]
  },
  {
   "cell_type": "code",
   "execution_count": 27,
   "metadata": {
    "colab": {
     "base_uri": "https://localhost:8080/"
    },
    "id": "0z7cro1cWpv0",
    "outputId": "bbb39f65-3968-4f61-e412-21365991d488"
   },
   "outputs": [
    {
     "data": {
      "text/plain": [
       "0.8007211372576082"
      ]
     },
     "execution_count": 27,
     "metadata": {},
     "output_type": "execute_result"
    }
   ],
   "source": [
    "fpr, tpr, thresholds = metrics.roc_curve(y_val, y_val_pred_2)\n",
    "metrics.auc(fpr, tpr)"
   ]
  },
  {
   "cell_type": "code",
   "execution_count": 28,
   "metadata": {
    "id": "HYDhXOak9i9a"
   },
   "outputs": [
    {
     "name": "stdout",
     "output_type": "stream",
     "text": [
      "              precision    recall  f1-score   support\n",
      "\n",
      "           0   0.981861  0.986479  0.984164      1701\n",
      "           1   0.708861  0.643678  0.674699        87\n",
      "\n",
      "    accuracy                       0.969799      1788\n",
      "   macro avg   0.845361  0.815078  0.829432      1788\n",
      "weighted avg   0.968577  0.969799  0.969106      1788\n",
      "\n"
     ]
    }
   ],
   "source": [
    "y_val_test_2 = knn2.predict(X_test)\n",
    "print(classification_report(y_test, y_val_test_2, digits= 6))"
   ]
  },
  {
   "cell_type": "code",
   "execution_count": 29,
   "metadata": {
    "id": "4JX-cjg39jtC"
   },
   "outputs": [
    {
     "data": {
      "text/plain": [
       "0.815078351476819"
      ]
     },
     "execution_count": 29,
     "metadata": {},
     "output_type": "execute_result"
    }
   ],
   "source": [
    "fpr, tpr, thresholds = metrics.roc_curve(y_test, y_val_test_2)\n",
    "metrics.auc(fpr, tpr)"
   ]
  },
  {
   "cell_type": "markdown",
   "metadata": {
    "id": "bvp6tRqQBpmY"
   },
   "source": [
    "<h2>Prototype Selection with K-Means + Countvectorizer</h2>"
   ]
  },
  {
   "cell_type": "code",
   "execution_count": 101,
   "metadata": {
    "id": "lpKk8rthBnlR"
   },
   "outputs": [],
   "source": [
    "# combine text features and vectorize\n",
    "df2 = data.copy()\n",
    "text_feature = df2[['title', 'department','company_profile','description','requirements','benefits']].apply(lambda x: ' '.join(x), axis = 1)\n",
    "\n",
    "bow = CountVectorizer(tokenizer=tokenizer)\n",
    "\n",
    "text_feature = bow.fit_transform(text_feature)"
   ]
  },
  {
   "cell_type": "code",
   "execution_count": 102,
   "metadata": {
    "id": "ujbv6sogB39f"
   },
   "outputs": [],
   "source": [
    "# encode label features\n",
    "lb = LabelEncoder()\n",
    "\n",
    "for col in ['employment_type', 'required_experience', 'required_education', 'industry', 'function', 'country',\n",
    "       'state', 'city']:\n",
    "    df2[col] = lb.fit_transform(df2[col])\n"
   ]
  },
  {
   "cell_type": "code",
   "execution_count": 103,
   "metadata": {
    "id": "SppotVx-B599"
   },
   "outputs": [],
   "source": [
    "# scale\n",
    "label_feature = df2[['employment_type', 'required_experience', 'required_education', 'industry', 'function', 'country',\n",
    "       'state', 'city']]\n",
    "scaler = StandardScaler().fit(label_feature)\n",
    "\n",
    "label_feature = scaler.transform(label_feature)"
   ]
  },
  {
   "cell_type": "code",
   "execution_count": 104,
   "metadata": {
    "id": "T84EvDo9B91T"
   },
   "outputs": [],
   "source": [
    "X = hstack((text_feature, label_feature))\n",
    "y = df1['fraudulent']\n",
    "X_train, X_test, y_train, y_test = train_test_split(X, y, test_size= 0.10, random_state= 42, stratify= y)\n",
    "X_train, X_val, y_train, y_val = train_test_split(X_train, y_train, test_size= 0.11, random_state= 42, stratify= y_train)\n",
    "kmx = X_train[np.array(y_train == 0), :]"
   ]
  },
  {
   "cell_type": "code",
   "execution_count": 105,
   "metadata": {
    "colab": {
     "base_uri": "https://localhost:8080/"
    },
    "id": "vTRYNIpECDx0",
    "outputId": "5faf6649-b26d-4ff6-db7b-6780c49335d2"
   },
   "outputs": [
    {
     "data": {
      "text/plain": [
       "0    13628\n",
       "1      693\n",
       "Name: fraudulent, dtype: int64"
      ]
     },
     "execution_count": 105,
     "metadata": {
      "tags": []
     },
     "output_type": "execute_result"
    }
   ],
   "source": [
    "y_train.value_counts()"
   ]
  },
  {
   "cell_type": "code",
   "execution_count": 106,
   "metadata": {
    "id": "Na-_tDNHCGMW"
   },
   "outputs": [],
   "source": [
    "#Use K-means to select 693 non-fraudulent cases\n",
    "km = KMeans(n_clusters= 693, random_state= 42).fit(kmx)\n",
    "non_fraud_centers = km.cluster_centers_"
   ]
  },
  {
   "cell_type": "code",
   "execution_count": 107,
   "metadata": {
    "id": "7z6bjuXiWEKu"
   },
   "outputs": [],
   "source": [
    "X_train_ps = vstack([sparse.csr_matrix(non_fraud_centers), X_train[np.array(y_train == 1), :]])\n",
    "y_train_ps = np.concatenate([np.repeat(0, 693), np.repeat(1, 693)])"
   ]
  },
  {
   "cell_type": "code",
   "execution_count": 108,
   "metadata": {
    "colab": {
     "base_uri": "https://localhost:8080/"
    },
    "id": "HIGqCJK3XG4H",
    "outputId": "a4a12613-83e8-4cbf-882a-336e5ec802fc"
   },
   "outputs": [
    {
     "name": "stdout",
     "output_type": "stream",
     "text": [
      "              precision    recall  f1-score   support\n",
      "\n",
      "           0       0.98      1.00      0.99      1685\n",
      "           1       0.91      0.70      0.79        86\n",
      "\n",
      "    accuracy                           0.98      1771\n",
      "   macro avg       0.95      0.85      0.89      1771\n",
      "weighted avg       0.98      0.98      0.98      1771\n",
      "\n"
     ]
    }
   ],
   "source": [
    "#KNN\n",
    "knn = KNeighborsClassifier(n_neighbors= 1)\n",
    "knn.fit(X_train_ps, y_train_ps)\n",
    "y_val_pred = knn.predict(X_val)\n",
    "print(classification_report(y_val, y_val_pred))"
   ]
  },
  {
   "cell_type": "code",
   "execution_count": 124,
   "metadata": {
    "colab": {
     "base_uri": "https://localhost:8080/"
    },
    "id": "D9nM2OPTABHM",
    "outputId": "05ceba82-bb31-4038-b396-098f4a21bac3"
   },
   "outputs": [
    {
     "name": "stdout",
     "output_type": "stream",
     "text": [
      "              precision    recall  f1-score   support\n",
      "\n",
      "           0   0.984751  0.996439  0.990560      1685\n",
      "           1   0.909091  0.697674  0.789474        86\n",
      "\n",
      "    accuracy                       0.981931      1771\n",
      "   macro avg   0.946921  0.847057  0.890017      1771\n",
      "weighted avg   0.981077  0.981931  0.980796      1771\n",
      "\n"
     ]
    }
   ],
   "source": [
    "y_val_pred = knn.predict(X_val)\n",
    "print(classification_report(y_val, y_val_pred, digits= 6))"
   ]
  },
  {
   "cell_type": "code",
   "execution_count": 109,
   "metadata": {
    "colab": {
     "base_uri": "https://localhost:8080/"
    },
    "id": "SIWWHwcRXKw2",
    "outputId": "250ae916-3b8d-449f-adca-2145c1cc92d4"
   },
   "outputs": [
    {
     "data": {
      "text/plain": [
       "0.8470567938720585"
      ]
     },
     "execution_count": 109,
     "metadata": {
      "tags": []
     },
     "output_type": "execute_result"
    }
   ],
   "source": [
    "fpr, tpr, thresholds = metrics.roc_curve(y_val, y_val_pred)\n",
    "metrics.auc(fpr, tpr)"
   ]
  },
  {
   "cell_type": "code",
   "execution_count": 115,
   "metadata": {
    "colab": {
     "base_uri": "https://localhost:8080/"
    },
    "id": "zZHBcoRdAIB6",
    "outputId": "2bf89897-72e3-4e0d-f99b-96c5bcf470da"
   },
   "outputs": [
    {
     "name": "stdout",
     "output_type": "stream",
     "text": [
      "              precision    recall  f1-score   support\n",
      "\n",
      "           0   0.984884  0.995885  0.990354      1701\n",
      "           1   0.897059  0.701149  0.787097        87\n",
      "\n",
      "    accuracy                       0.981544      1788\n",
      "   macro avg   0.940971  0.848517  0.888725      1788\n",
      "weighted avg   0.980610  0.981544  0.980464      1788\n",
      "\n"
     ]
    }
   ],
   "source": [
    "y_test_pred = knn.predict(X_test)\n",
    "print(classification_report(y_test, y_test_pred, digits= 6))"
   ]
  },
  {
   "cell_type": "code",
   "execution_count": 116,
   "metadata": {
    "colab": {
     "base_uri": "https://localhost:8080/"
    },
    "id": "YzJR4UgzANHl",
    "outputId": "69760768-dbf1-429a-e8c0-94e05b29a446"
   },
   "outputs": [
    {
     "data": {
      "text/plain": [
       "0.848517099474954"
      ]
     },
     "execution_count": 116,
     "metadata": {
      "tags": []
     },
     "output_type": "execute_result"
    }
   ],
   "source": [
    "fpr, tpr, thresholds = metrics.roc_curve(y_test, y_test_pred)\n",
    "metrics.auc(fpr, tpr)"
   ]
  },
  {
   "cell_type": "code",
   "execution_count": 110,
   "metadata": {
    "colab": {
     "base_uri": "https://localhost:8080/"
    },
    "id": "NAn0eRfaXMcs",
    "outputId": "60178808-bcb7-43e6-df03-f0e5f8c74d91"
   },
   "outputs": [
    {
     "name": "stdout",
     "output_type": "stream",
     "text": [
      "              precision    recall  f1-score   support\n",
      "\n",
      "           0       0.99      0.98      0.99      1685\n",
      "           1       0.69      0.83      0.75        86\n",
      "\n",
      "    accuracy                           0.97      1771\n",
      "   macro avg       0.84      0.90      0.87      1771\n",
      "weighted avg       0.98      0.97      0.97      1771\n",
      "\n"
     ]
    }
   ],
   "source": [
    "knn2 = KNeighborsClassifier(n_neighbors= 1)\n",
    "knn2.fit(X_train, y_train)\n",
    "y_val_pred_2 = knn2.predict(X_val)\n",
    "print(classification_report(y_val, y_val_pred_2))"
   ]
  },
  {
   "cell_type": "code",
   "execution_count": 117,
   "metadata": {
    "colab": {
     "base_uri": "https://localhost:8080/"
    },
    "id": "w_OwXfgTAXJl",
    "outputId": "c4323619-653e-4c68-928e-610b7312b10b"
   },
   "outputs": [
    {
     "name": "stdout",
     "output_type": "stream",
     "text": [
      "              precision    recall  f1-score   support\n",
      "\n",
      "           0   0.991007  0.981009  0.985983      1685\n",
      "           1   0.689320  0.825581  0.751323        86\n",
      "\n",
      "    accuracy                       0.973461      1771\n",
      "   macro avg   0.840164  0.903295  0.868653      1771\n",
      "weighted avg   0.976357  0.973461  0.974588      1771\n",
      "\n"
     ]
    }
   ],
   "source": [
    "print(classification_report(y_val, y_val_pred_2, digits= 6))"
   ]
  },
  {
   "cell_type": "code",
   "execution_count": 111,
   "metadata": {
    "colab": {
     "base_uri": "https://localhost:8080/"
    },
    "id": "Iucvnx9YXN7P",
    "outputId": "cd86ece1-1a8b-43b2-df6b-aa1a9c25b58d"
   },
   "outputs": [
    {
     "data": {
      "text/plain": [
       "0.9032951487129942"
      ]
     },
     "execution_count": 111,
     "metadata": {
      "tags": []
     },
     "output_type": "execute_result"
    }
   ],
   "source": [
    "fpr, tpr, thresholds = metrics.roc_curve(y_val, y_val_pred_2)\n",
    "metrics.auc(fpr, tpr)"
   ]
  },
  {
   "cell_type": "code",
   "execution_count": 121,
   "metadata": {
    "colab": {
     "base_uri": "https://localhost:8080/"
    },
    "id": "4k5PV9-PAwtO",
    "outputId": "df92842d-2eb6-404f-c694-491458759994"
   },
   "outputs": [
    {
     "name": "stdout",
     "output_type": "stream",
     "text": [
      "              precision    recall  f1-score   support\n",
      "\n",
      "           0   0.992294  0.984127  0.988194      1701\n",
      "           1   0.732673  0.850575  0.787234        87\n",
      "\n",
      "    accuracy                       0.977629      1788\n",
      "   macro avg   0.862484  0.917351  0.887714      1788\n",
      "weighted avg   0.979661  0.977629  0.978415      1788\n",
      "\n"
     ]
    }
   ],
   "source": [
    "y_test_pred_2 = knn2.predict(X_test)\n",
    "print(classification_report(y_test, y_test_pred_2, digits= 6))"
   ]
  },
  {
   "cell_type": "code",
   "execution_count": 122,
   "metadata": {
    "colab": {
     "base_uri": "https://localhost:8080/"
    },
    "id": "xDfRwyUaA1RP",
    "outputId": "f92c37dd-b8b6-4466-e15b-9aac26aed007"
   },
   "outputs": [
    {
     "data": {
      "text/plain": [
       "0.9173508483853312"
      ]
     },
     "execution_count": 122,
     "metadata": {
      "tags": []
     },
     "output_type": "execute_result"
    }
   ],
   "source": [
    "fpr, tpr, thresholds = metrics.roc_curve(y_test, y_test_pred_2)\n",
    "metrics.auc(fpr, tpr)"
   ]
  },
  {
   "cell_type": "markdown",
   "metadata": {
    "id": "gMdLmu91CddF"
   },
   "source": [
    "Glove"
   ]
  },
  {
   "cell_type": "code",
   "execution_count": 127,
   "metadata": {
    "id": "2DNF1ubHCe_F"
   },
   "outputs": [],
   "source": [
    "from gensim.test.utils import datapath, get_tmpfile\n",
    "from gensim.corpora import Dictionary\n",
    "from gensim.models import KeyedVectors, LdaModel, Word2Vec\n",
    "from gensim.scripts.glove2word2vec import glove2word2vec\n",
    "from gensim.test.utils import datapath, get_tmpfile\n",
    "import re\n",
    "# load the GloVe 6B embeddings\n",
    "\n",
    "glove_file = \"/content/glove.6B.100d.txt\"\n",
    "tmp_file = get_tmpfile(\"test_word2vec.txt\")\n",
    "\n",
    "_ = glove2word2vec(glove_file, tmp_file)\n",
    "glove_model = KeyedVectors.load_word2vec_format(tmp_file)"
   ]
  },
  {
   "cell_type": "code",
   "execution_count": 128,
   "metadata": {
    "id": "-Kj_Hy-CIKqw"
   },
   "outputs": [],
   "source": [
    "df3 = data.copy()\n",
    "text_feature = df3[['title', 'department','company_profile','description','requirements','benefits']].apply(lambda x: ' '.join(x), axis = 1)"
   ]
  },
  {
   "cell_type": "code",
   "execution_count": 129,
   "metadata": {
    "id": "4J8W2kFtINnk"
   },
   "outputs": [],
   "source": [
    "def word_averaging(model, sentence):\n",
    "    vectors = np.zeros(100)\n",
    "    words = re.sub(r\"\\W+\", \" \", sentence).split()\n",
    "    words = [w.lower() for w in words if w not in stop]\n",
    "   # words = [ps.stem(word) for word in words]\n",
    "    for i in words:\n",
    "        try:\n",
    "            vectors += model[i]\n",
    "        except KeyError:\n",
    "            pass\n",
    "    return vectors / len(words)"
   ]
  },
  {
   "cell_type": "code",
   "execution_count": 130,
   "metadata": {
    "id": "pa9SFdgIJGLh"
   },
   "outputs": [],
   "source": [
    "# combine text features and vectorize\n",
    "df3 = data.copy()\n",
    "text = df3[['title', 'department','company_profile','description','requirements','benefits']].apply(lambda x: ' '.join(x), axis = 1)\n",
    "\n",
    "text_feature = list(word_averaging(glove_model, i) for i in text_feature)"
   ]
  },
  {
   "cell_type": "code",
   "execution_count": 131,
   "metadata": {
    "id": "Wx2H62PRJJni"
   },
   "outputs": [],
   "source": [
    "# scale\n",
    "lb = LabelEncoder()\n",
    "\n",
    "for col in ['employment_type', 'required_experience', 'required_education', 'industry', 'function', 'country',\n",
    "       'state', 'city']:\n",
    "    df3[col] = lb.fit_transform(df3[col])\n",
    "\n",
    "label_feature = df3[['employment_type', 'required_experience', 'required_education', 'industry', 'function', 'country',\n",
    "       'state', 'city']]\n",
    "scaler = StandardScaler().fit(label_feature)\n",
    "\n",
    "label_feature = scaler.transform(label_feature)"
   ]
  },
  {
   "cell_type": "code",
   "execution_count": 132,
   "metadata": {
    "colab": {
     "base_uri": "https://localhost:8080/"
    },
    "id": "BO3dOacEJLc8",
    "outputId": "dabdcf4b-c37e-457e-b637-11eb315abecd"
   },
   "outputs": [
    {
     "data": {
      "text/plain": [
       "KNeighborsClassifier(algorithm='auto', leaf_size=30, metric='minkowski',\n",
       "                     metric_params=None, n_jobs=None, n_neighbors=1, p=2,\n",
       "                     weights='uniform')"
      ]
     },
     "execution_count": 132,
     "metadata": {
      "tags": []
     },
     "output_type": "execute_result"
    }
   ],
   "source": [
    "# build model\n",
    "X = pd.concat([pd.DataFrame(text_feature),pd.DataFrame(label_feature)],axis=1).set_axis(list(range(108)), axis=1, inplace=False)\n",
    "y = df3['fraudulent']\n",
    "\n",
    "X_train, X_test, y_train, y_test = train_test_split(X, y, test_size= 0.10, random_state= 42, stratify= y)\n",
    "X_train, X_val, y_train, y_val = train_test_split(X_train, y_train, test_size= 0.11, random_state= 42, stratify= y_train)\n",
    "\n",
    "glove_clf = KNeighborsClassifier(n_neighbors= 1)\n",
    "glove_clf.fit(X_train, y_train)"
   ]
  },
  {
   "cell_type": "code",
   "execution_count": 144,
   "metadata": {
    "colab": {
     "base_uri": "https://localhost:8080/"
    },
    "id": "7QlhveLgJjD4",
    "outputId": "8a0b24ba-d730-42d0-8045-be16d03e302b"
   },
   "outputs": [
    {
     "name": "stdout",
     "output_type": "stream",
     "text": [
      "              precision    recall  f1-score   support\n",
      "\n",
      "           0   0.978274  0.988724  0.983471      1685\n",
      "           1   0.720588  0.569767  0.636364        86\n",
      "\n",
      "    accuracy                       0.968379      1771\n",
      "   macro avg   0.849431  0.779246  0.809917      1771\n",
      "weighted avg   0.965760  0.968379  0.966615      1771\n",
      "\n"
     ]
    }
   ],
   "source": [
    "glove_clf = KNeighborsClassifier(n_neighbors= 1)\n",
    "glove_clf.fit(X_train, y_train)\n",
    "glove_val_pred = glove_clf.predict(X_val)\n",
    "print(classification_report(y_val, glove_val_pred, digits= 6))"
   ]
  },
  {
   "cell_type": "code",
   "execution_count": 145,
   "metadata": {
    "colab": {
     "base_uri": "https://localhost:8080/"
    },
    "id": "iw9VmwS0Jvfp",
    "outputId": "5a7d16f6-4d4e-4fc8-f0d5-f522232e6492"
   },
   "outputs": [
    {
     "data": {
      "text/plain": [
       "0.779245738734387"
      ]
     },
     "execution_count": 145,
     "metadata": {
      "tags": []
     },
     "output_type": "execute_result"
    }
   ],
   "source": [
    "fpr, tpr, thresholds = metrics.roc_curve(y_val, glove_val_pred)\n",
    "metrics.auc(fpr, tpr)"
   ]
  },
  {
   "cell_type": "code",
   "execution_count": 146,
   "metadata": {
    "colab": {
     "base_uri": "https://localhost:8080/"
    },
    "id": "tL_SWwjaJ0m0",
    "outputId": "ebf4ed24-7c5c-4b70-9a36-1caa39236938"
   },
   "outputs": [
    {
     "name": "stdout",
     "output_type": "stream",
     "text": [
      "              precision    recall  f1-score   support\n",
      "\n",
      "           0   0.980198  0.989418  0.984786      1701\n",
      "           1   0.746479  0.609195  0.670886        87\n",
      "\n",
      "    accuracy                       0.970917      1788\n",
      "   macro avg   0.863338  0.799307  0.827836      1788\n",
      "weighted avg   0.968826  0.970917  0.969513      1788\n",
      "\n"
     ]
    }
   ],
   "source": [
    "glove_test_pred = glove_clf.predict(X_test)\n",
    "print(classification_report(y_test, glove_test_pred, digits= 6))"
   ]
  },
  {
   "cell_type": "code",
   "execution_count": 147,
   "metadata": {
    "colab": {
     "base_uri": "https://localhost:8080/"
    },
    "id": "vTUvG4U2J33m",
    "outputId": "70900435-9953-4d8a-8cbb-0be608162acf"
   },
   "outputs": [
    {
     "data": {
      "text/plain": [
       "0.79930669585842"
      ]
     },
     "execution_count": 147,
     "metadata": {
      "tags": []
     },
     "output_type": "execute_result"
    }
   ],
   "source": [
    "fpr, tpr, thresholds = metrics.roc_curve(y_test, glove_test_pred)\n",
    "metrics.auc(fpr, tpr)"
   ]
  },
  {
   "cell_type": "code",
   "execution_count": null,
   "metadata": {
    "id": "_aqvj7HZLS5G"
   },
   "outputs": [],
   "source": []
  }
 ],
 "metadata": {
  "colab": {
   "name": "kmeans+knn+tfidf.ipynb",
   "provenance": []
  },
  "kernelspec": {
   "display_name": "Python 3",
   "language": "python",
   "name": "python3"
  },
  "language_info": {
   "codemirror_mode": {
    "name": "ipython",
    "version": 3
   },
   "file_extension": ".py",
   "mimetype": "text/x-python",
   "name": "python",
   "nbconvert_exporter": "python",
   "pygments_lexer": "ipython3",
   "version": "3.8.5"
  }
 },
 "nbformat": 4,
 "nbformat_minor": 4
}
