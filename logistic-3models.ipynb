{
 "cells": [
  {
   "cell_type": "code",
   "execution_count": 1,
   "metadata": {},
   "outputs": [],
   "source": [
    "import pandas as pd\n",
    "import numpy as np\n",
    "from sklearn.model_selection import train_test_split"
   ]
  },
  {
   "cell_type": "code",
   "execution_count": 2,
   "metadata": {},
   "outputs": [],
   "source": [
    "data = pd.read_csv(\"fake_job_postings.csv\")"
   ]
  },
  {
   "cell_type": "code",
   "execution_count": 3,
   "metadata": {},
   "outputs": [],
   "source": [
    "location = data[\"location\"].str.split(\",\", expand= True, n= 2)\n",
    "location.columns = [\"country\", \"state\", \"city\"]\n",
    "data[[\"country\", \"state\", \"city\"]] = location\n",
    "data = data.drop(columns= \"location\")"
   ]
  },
  {
   "cell_type": "code",
   "execution_count": 4,
   "metadata": {},
   "outputs": [],
   "source": [
    "salary = data[\"salary_range\"].str.split(\"-\", expand= True, n= 1)\n",
    "data[[\"min_salary\", \"max_salary\"]] = salary\n",
    "data = data.drop(columns= \"salary_range\")"
   ]
  },
  {
   "cell_type": "code",
   "execution_count": 5,
   "metadata": {},
   "outputs": [],
   "source": [
    "data = data.fillna(\"N/A\")\n",
    "data[\"state\"] = data[\"state\"].str.strip().apply(lambda x: \"N/A\" if x == '' else x)\n",
    "data[\"country\"] = data[\"country\"].str.strip().apply(lambda x: \"N/A\" if x == '' else x)\n",
    "data[\"city\"] = data[\"city\"].str.strip().apply(lambda x: \"N/A\" if x == '' else x)"
   ]
  },
  {
   "cell_type": "code",
   "execution_count": 6,
   "metadata": {},
   "outputs": [],
   "source": [
    "for i in [\"company_profile\", \"description\", \"requirements\", \"benefits\"]:\n",
    "    data[i] = data[i].str.lower()"
   ]
  },
  {
   "cell_type": "code",
   "execution_count": 7,
   "metadata": {},
   "outputs": [
    {
     "data": {
      "text/plain": [
       "job_id                 0\n",
       "title                  0\n",
       "department             0\n",
       "company_profile        0\n",
       "description            0\n",
       "requirements           0\n",
       "benefits               0\n",
       "telecommuting          0\n",
       "has_company_logo       0\n",
       "has_questions          0\n",
       "employment_type        0\n",
       "required_experience    0\n",
       "required_education     0\n",
       "industry               0\n",
       "function               0\n",
       "fraudulent             0\n",
       "country                0\n",
       "state                  0\n",
       "city                   0\n",
       "min_salary             0\n",
       "max_salary             0\n",
       "dtype: int64"
      ]
     },
     "execution_count": 7,
     "metadata": {},
     "output_type": "execute_result"
    }
   ],
   "source": [
    "data.isnull().sum()"
   ]
  },
  {
   "cell_type": "code",
   "execution_count": 8,
   "metadata": {},
   "outputs": [
    {
     "data": {
      "text/plain": [
       "Index(['job_id', 'title', 'department', 'company_profile', 'description',\n",
       "       'requirements', 'benefits', 'telecommuting', 'has_company_logo',\n",
       "       'has_questions', 'employment_type', 'required_experience',\n",
       "       'required_education', 'industry', 'function', 'fraudulent', 'country',\n",
       "       'state', 'city', 'min_salary', 'max_salary'],\n",
       "      dtype='object')"
      ]
     },
     "execution_count": 8,
     "metadata": {},
     "output_type": "execute_result"
    }
   ],
   "source": [
    "data.columns"
   ]
  },
  {
   "cell_type": "code",
   "execution_count": 9,
   "metadata": {},
   "outputs": [
    {
     "data": {
      "text/html": [
       "<div>\n",
       "<style scoped>\n",
       "    .dataframe tbody tr th:only-of-type {\n",
       "        vertical-align: middle;\n",
       "    }\n",
       "\n",
       "    .dataframe tbody tr th {\n",
       "        vertical-align: top;\n",
       "    }\n",
       "\n",
       "    .dataframe thead th {\n",
       "        text-align: right;\n",
       "    }\n",
       "</style>\n",
       "<table border=\"1\" class=\"dataframe\">\n",
       "  <thead>\n",
       "    <tr style=\"text-align: right;\">\n",
       "      <th>min_salary</th>\n",
       "      <th>False</th>\n",
       "      <th>True</th>\n",
       "    </tr>\n",
       "    <tr>\n",
       "      <th>fraudulent</th>\n",
       "      <th></th>\n",
       "      <th></th>\n",
       "    </tr>\n",
       "  </thead>\n",
       "  <tbody>\n",
       "    <tr>\n",
       "      <th>0</th>\n",
       "      <td>2645</td>\n",
       "      <td>14369</td>\n",
       "    </tr>\n",
       "    <tr>\n",
       "      <th>1</th>\n",
       "      <td>223</td>\n",
       "      <td>643</td>\n",
       "    </tr>\n",
       "  </tbody>\n",
       "</table>\n",
       "</div>"
      ],
      "text/plain": [
       "min_salary  False  True \n",
       "fraudulent              \n",
       "0            2645  14369\n",
       "1             223    643"
      ]
     },
     "execution_count": 9,
     "metadata": {},
     "output_type": "execute_result"
    }
   ],
   "source": [
    "pd.crosstab(data.fraudulent, data.min_salary=='N/A')"
   ]
  },
  {
   "cell_type": "code",
   "execution_count": 10,
   "metadata": {},
   "outputs": [],
   "source": [
    "# train test split - 0.8, 0.1, 0.1, execute after preprocessing\n",
    "# X_train, X_test, y_train, y_test = train_test_split(data, data[\"fraudulent\"], test_size= 0.10, random_state= 42, stratify= data[\"fraudulent\"])\n",
    "# X_tran, X_val, y_train, y_val = train_test_split(X_train, y_train, test_size= 0.11, random_state= 42, stratify= y_train)"
   ]
  },
  {
   "cell_type": "markdown",
   "metadata": {},
   "source": [
    "### TF-IDF - Logistic Regression"
   ]
  },
  {
   "cell_type": "code",
   "execution_count": 8,
   "metadata": {},
   "outputs": [
    {
     "name": "stderr",
     "output_type": "stream",
     "text": [
      "[nltk_data] Downloading package punkt to /home/jovyan/nltk_data...\n",
      "[nltk_data]   Package punkt is already up-to-date!\n",
      "[nltk_data] Downloading package stopwords to /home/jovyan/nltk_data...\n",
      "[nltk_data]   Package stopwords is already up-to-date!\n"
     ]
    }
   ],
   "source": [
    "from sklearn.feature_extraction.text import CountVectorizer\n",
    "from sklearn.model_selection import train_test_split\n",
    "from sklearn.linear_model import LogisticRegression\n",
    "from sklearn.feature_extraction.text import TfidfVectorizer\n",
    "from sklearn.metrics import accuracy_score\n",
    "from sklearn.metrics import f1_score\n",
    "from sklearn.metrics import roc_auc_score\n",
    "from sklearn.metrics import precision_recall_fscore_support\n",
    "from sklearn.preprocessing import LabelEncoder\n",
    "import collections\n",
    "from sklearn.preprocessing import StandardScaler\n",
    "from scipy.sparse import hstack\n",
    "import nltk\n",
    "nltk.download('punkt')\n",
    "from nltk.tokenize import word_tokenize\n",
    "from nltk.tokenize import sent_tokenize\n",
    "from nltk.stem import PorterStemmer\n",
    "nltk.download('stopwords')\n",
    "from nltk.corpus import stopwords\n",
    "from sklearn.feature_selection import RFE\n",
    "from matplotlib import pyplot"
   ]
  },
  {
   "cell_type": "code",
   "execution_count": 9,
   "metadata": {},
   "outputs": [],
   "source": [
    "# tokenizer define\n",
    "ps = PorterStemmer()\n",
    "stop = set(stopwords.words('english'))\n",
    "def tokenizer (doc):\n",
    "    sentences = sent_tokenize(doc)\n",
    "    tokens = []\n",
    "    for sent in sentences:\n",
    "        words = word_tokenize(sent)\n",
    "        words = [ps.stem(word) for word in words]\n",
    "        tokens+=words\n",
    "    return [w.lower() for w in tokens if w not in stop]"
   ]
  },
  {
   "cell_type": "code",
   "execution_count": 10,
   "metadata": {},
   "outputs": [],
   "source": [
    "# combine text features and vectorize\n",
    "df1 = data.copy()\n",
    "text_feature = df1[['title', 'department','company_profile','description','requirements','benefits']].apply(lambda x: ' '.join(x), axis = 1)\n",
    "\n",
    "tfidf = TfidfVectorizer(strip_accents=None,\n",
    "                        lowercase=True,\n",
    "                        preprocessor=None,  # applied preprocessor in Data Cleaning\n",
    "                        tokenizer=tokenizer,\n",
    "                        use_idf=True,\n",
    "                        norm='l2',\n",
    "                        smooth_idf=True)\n",
    "\n",
    "text_feature = tfidf.fit_transform(text_feature)\n"
   ]
  },
  {
   "cell_type": "code",
   "execution_count": 11,
   "metadata": {},
   "outputs": [],
   "source": [
    "# encode label features\n",
    "lb = LabelEncoder()\n",
    "\n",
    "for col in ['employment_type', 'required_experience', 'required_education', 'industry', 'function', 'country',\n",
    "       'state', 'city']:\n",
    "    df1[col] = lb.fit_transform(df1[col])\n"
   ]
  },
  {
   "cell_type": "code",
   "execution_count": 12,
   "metadata": {},
   "outputs": [],
   "source": [
    "# scale\n",
    "label_feature = df1[['employment_type', 'required_experience', 'required_education', 'industry', 'function', 'country',\n",
    "       'state', 'city']]\n",
    "scaler = StandardScaler().fit(label_feature)\n",
    "\n",
    "label_feature = scaler.transform(label_feature)"
   ]
  },
  {
   "cell_type": "code",
   "execution_count": 13,
   "metadata": {},
   "outputs": [
    {
     "name": "stdout",
     "output_type": "stream",
     "text": [
      "0.9723320158102767\n",
      "(0.9858708189158016, 0.7151162790697674, 0.7936471701657644, None)\n",
      "(0.9723320158102767, 0.9723320158102767, 0.9723320158102767, None)\n",
      "0.7151162790697674\n",
      "0.7151162790697674\n"
     ]
    }
   ],
   "source": [
    "# build model\n",
    "X = hstack((text_feature, label_feature))\n",
    "y = df1['fraudulent']\n",
    "\n",
    "X_train, X_test, y_train, y_test = train_test_split(X, y, test_size= 0.10, random_state= 42, stratify= y)\n",
    "X_train, X_val, y_train, y_val = train_test_split(X_train, y_train, test_size= 0.11, random_state= 42, stratify= y_train)\n",
    "\n",
    "tfidf_clf = LogisticRegression(C=1.0, max_iter=10000).fit(X_train, y_train)\n",
    "print(tfidf_clf.score(X_val, y_val))\n",
    "print(precision_recall_fscore_support(y_val, tfidf_clf.predict(X_val), average='macro'))\n",
    "print(precision_recall_fscore_support(y_val, tfidf_clf.predict(X_val), average='micro'))\n",
    "print(roc_auc_score(y_val, tfidf_clf.predict(X_val), average='macro'))\n",
    "print(roc_auc_score(y_val, tfidf_clf.predict(X_val), average='micro'))"
   ]
  },
  {
   "cell_type": "code",
   "execution_count": 16,
   "metadata": {},
   "outputs": [
    {
     "name": "stdout",
     "output_type": "stream",
     "text": [
      "employment_type | 0.07506910370737147\n",
      "required_experience | 0.25703517165843615\n",
      "required_education | 0.16477544425920318\n",
      "industry | -0.01127769950150585\n",
      "function | -0.4339682426136203\n",
      "country | 0.43847843142883514\n",
      "state | 0.07770028922464661\n",
      "city | -0.007637709450692502\n"
     ]
    }
   ],
   "source": [
    "cols = ['employment_type', 'required_experience', 'required_education', 'industry', 'function', 'country',\n",
    "       'state', 'city']\n",
    "for i in range(8):\n",
    "    print(cols[i], \"|\", tfidf_clf.coef_[0][-8:][i])\n"
   ]
  },
  {
   "cell_type": "code",
   "execution_count": 17,
   "metadata": {},
   "outputs": [
    {
     "name": "stdout",
     "output_type": "stream",
     "text": [
      "0.9700734048560136\n",
      "(0.9847525891829689, 0.6918604651162791, 0.7695691773641973, None)\n",
      "(0.9700734048560136, 0.9700734048560136, 0.9700734048560136, None)\n",
      "0.6918604651162791\n",
      "0.6918604651162791\n"
     ]
    }
   ],
   "source": [
    "# if only processed with text - lower accruacy and other scores\n",
    "# if keep 'required_experience', 'required_education', 'function', 'country' - same result as using all varialbes\n",
    "# label_feature = df1[['required_experience', 'required_education', 'function', 'country']]\n",
    "# scaler = StandardScaler().fit(label_feature)\n",
    "\n",
    "# label_feature = scaler.transform(label_feature)\n",
    "# X = hstack((text_feature, label_feature))\n",
    "X = text_feature\n",
    "y = df1['fraudulent']\n",
    "\n",
    "X_train, X_test, y_train, y_test = train_test_split(X, y, test_size= 0.10, random_state= 42, stratify= y)\n",
    "X_train, X_val, y_train, y_val = train_test_split(X_train, y_train, test_size= 0.11, random_state= 42, stratify= y_train)\n",
    "\n",
    "tfidf_clf = LogisticRegression(C=1.0, max_iter=10000).fit(X_train, y_train)\n",
    "print(tfidf_clf.score(X_val, y_val))\n",
    "print(precision_recall_fscore_support(y_val, tfidf_clf.predict(X_val), average='macro'))\n",
    "print(precision_recall_fscore_support(y_val, tfidf_clf.predict(X_val), average='micro'))\n",
    "print(roc_auc_score(y_val, tfidf_clf.predict(X_val), average='macro'))\n",
    "print(roc_auc_score(y_val, tfidf_clf.predict(X_val), average='micro'))"
   ]
  },
  {
   "cell_type": "markdown",
   "metadata": {},
   "source": [
    "### BOW - Logistic Regression"
   ]
  },
  {
   "cell_type": "code",
   "execution_count": 12,
   "metadata": {},
   "outputs": [],
   "source": [
    "# combine text features and vectorize\n",
    "df2 = data.copy()\n",
    "text_feature = df2[['title', 'department','company_profile','description','requirements','benefits']].apply(lambda x: ' '.join(x), axis = 1)\n",
    "\n",
    "bow = CountVectorizer(tokenizer=tokenizer)\n",
    "\n",
    "text_feature = bow.fit_transform(text_feature)\n"
   ]
  },
  {
   "cell_type": "code",
   "execution_count": 13,
   "metadata": {},
   "outputs": [],
   "source": [
    "# encode label features\n",
    "lb = LabelEncoder()\n",
    "\n",
    "for col in ['employment_type', 'required_experience', 'required_education', 'industry', 'function', 'country',\n",
    "       'state', 'city']:\n",
    "    df2[col] = lb.fit_transform(df2[col])\n"
   ]
  },
  {
   "cell_type": "code",
   "execution_count": 14,
   "metadata": {},
   "outputs": [],
   "source": [
    "# scale\n",
    "label_feature = df2[['employment_type', 'required_experience', 'required_education', 'industry', 'function', 'country',\n",
    "       'state', 'city']]\n",
    "scaler = StandardScaler().fit(label_feature)\n",
    "\n",
    "label_feature = scaler.transform(label_feature)"
   ]
  },
  {
   "cell_type": "code",
   "execution_count": 15,
   "metadata": {},
   "outputs": [
    {
     "name": "stdout",
     "output_type": "stream",
     "text": [
      "0.9847543760587238\n",
      "(0.941065251572327, 0.8871609964805742, 0.9121561668145519, None)\n",
      "(0.9847543760587238, 0.9847543760587238, 0.9847543760587238, None)\n",
      "0.8871609964805741\n",
      "0.8871609964805741\n"
     ]
    }
   ],
   "source": [
    "# build model\n",
    "X = hstack((text_feature, label_feature))\n",
    "y = df2['fraudulent']\n",
    "\n",
    "X_train, X_test, y_train, y_test = train_test_split(X, y, test_size= 0.10, random_state= 42, stratify= y)\n",
    "X_train, X_val, y_train, y_val = train_test_split(X_train, y_train, test_size= 0.11, random_state= 42, stratify= y_train)\n",
    "\n",
    "bow_clf = LogisticRegression(C=1.0, max_iter=10000).fit(X_train, y_train)\n",
    "print(bow_clf.score(X_val, y_val))\n",
    "print(precision_recall_fscore_support(y_val, bow_clf.predict(X_val), average='macro'))\n",
    "print(precision_recall_fscore_support(y_val, bow_clf.predict(X_val), average='micro'))\n",
    "print(roc_auc_score(y_val, bow_clf.predict(X_val), average='macro'))\n",
    "print(roc_auc_score(y_val, bow_clf.predict(X_val), average='micro'))"
   ]
  },
  {
   "cell_type": "code",
   "execution_count": 23,
   "metadata": {},
   "outputs": [
    {
     "name": "stdout",
     "output_type": "stream",
     "text": [
      "employment_type | 0.2417920735850242\n",
      "required_experience | 0.35007397092246073\n",
      "required_education | 0.38439277528309646\n",
      "industry | -0.4690553511020775\n",
      "function | -0.6222970582320625\n",
      "country | 0.2660940000419586\n",
      "state | -0.04997706926619668\n",
      "city | 0.07876774786835677\n"
     ]
    }
   ],
   "source": [
    "cols = ['employment_type', 'required_experience', 'required_education', 'industry', 'function', 'country',\n",
    "       'state', 'city']\n",
    "for i in range(8):\n",
    "    print(cols[i], \"|\", bow_clf.coef_[0][-8:][i])\n"
   ]
  },
  {
   "cell_type": "code",
   "execution_count": 16,
   "metadata": {},
   "outputs": [
    {
     "name": "stdout",
     "output_type": "stream",
     "text": [
      "0.9864483342744212\n",
      "(0.9596862533516448, 0.8880512041957077, 0.9205045336206121, None)\n",
      "(0.9864483342744212, 0.9864483342744212, 0.9864483342744212, None)\n",
      "0.8880512041957077\n",
      "0.8880512041957077\n"
     ]
    }
   ],
   "source": [
    "# adjusted model\n",
    "label_feature = df2[['industry', 'function']]\n",
    "#scaler = StandardScaler().fit(label_feature)\n",
    "\n",
    "# label_feature = scaler.transform(label_feature)\n",
    "X = hstack((text_feature, label_feature))\n",
    "# X = text_feature\n",
    "y = df2['fraudulent']\n",
    "\n",
    "X_train, X_test, y_train, y_test = train_test_split(X, y, test_size= 0.10, random_state= 42, stratify= y)\n",
    "X_train, X_val, y_train, y_val = train_test_split(X_train, y_train, test_size= 0.11, random_state= 42, stratify= y_train)\n",
    "\n",
    "bow_clf = LogisticRegression(C=1.0, max_iter=10000).fit(X_train, y_train)\n",
    "print(bow_clf.score(X_val, y_val))\n",
    "print(precision_recall_fscore_support(y_val, bow_clf.predict(X_val), average='macro'))\n",
    "print(precision_recall_fscore_support(y_val, bow_clf.predict(X_val), average='micro'))\n",
    "print(roc_auc_score(y_val, bow_clf.predict(X_val), average='macro'))\n",
    "print(roc_auc_score(y_val, bow_clf.predict(X_val), average='micro'))"
   ]
  },
  {
   "cell_type": "markdown",
   "metadata": {},
   "source": [
    "### GloVe"
   ]
  },
  {
   "cell_type": "code",
   "execution_count": 10,
   "metadata": {},
   "outputs": [],
   "source": [
    "from gensim.test.utils import datapath, get_tmpfile\n",
    "from gensim.corpora import Dictionary\n",
    "from gensim.models import KeyedVectors, LdaModel, Word2Vec\n",
    "from gensim.scripts.glove2word2vec import glove2word2vec\n",
    "from gensim.test.utils import datapath, get_tmpfile\n",
    "import re\n",
    "# load the GloVe 6B embeddings\n",
    "\n",
    "glove_file = \"glove.6B.100d.txt\"\n",
    "tmp_file = get_tmpfile(\"test_word2vec.txt\")\n",
    "\n",
    "_ = glove2word2vec(glove_file, tmp_file)\n",
    "glove_model = KeyedVectors.load_word2vec_format(tmp_file)"
   ]
  },
  {
   "cell_type": "code",
   "execution_count": 11,
   "metadata": {},
   "outputs": [],
   "source": [
    "df3 = data.copy()\n",
    "text_feature = df3[['title', 'department','company_profile','description','requirements','benefits']].apply(lambda x: ' '.join(x), axis = 1)\n"
   ]
  },
  {
   "cell_type": "code",
   "execution_count": 12,
   "metadata": {},
   "outputs": [],
   "source": [
    "def word_averaging(model, sentence):\n",
    "    vectors = np.zeros(100)\n",
    "    words = re.sub(r\"\\W+\", \" \", sentence).split()\n",
    "    words = [w.lower() for w in words if w not in stop]\n",
    "   # words = [ps.stem(word) for word in words]\n",
    "    for i in words:\n",
    "        try:\n",
    "            vectors += model[i]\n",
    "        except KeyError:\n",
    "            pass\n",
    "    return vectors / len(words)"
   ]
  },
  {
   "cell_type": "code",
   "execution_count": 13,
   "metadata": {},
   "outputs": [],
   "source": [
    "# combine text features and vectorize\n",
    "df3 = data.copy()\n",
    "text = df3[['title', 'department','company_profile','description','requirements','benefits']].apply(lambda x: ' '.join(x), axis = 1)\n",
    "\n",
    "text_feature = list(word_averaging(glove_model, i) for i in text_feature)\n",
    "\n"
   ]
  },
  {
   "cell_type": "code",
   "execution_count": 16,
   "metadata": {},
   "outputs": [],
   "source": [
    "# scale\n",
    "lb = LabelEncoder()\n",
    "\n",
    "for col in ['employment_type', 'required_experience', 'required_education', 'industry', 'function', 'country',\n",
    "       'state', 'city']:\n",
    "    df3[col] = lb.fit_transform(df3[col])\n",
    "\n",
    "label_feature = df3[['employment_type', 'required_experience', 'required_education', 'industry', 'function', 'country',\n",
    "       'state', 'city']]\n",
    "scaler = StandardScaler().fit(label_feature)\n",
    "\n",
    "label_feature = scaler.transform(label_feature)"
   ]
  },
  {
   "cell_type": "code",
   "execution_count": 17,
   "metadata": {},
   "outputs": [
    {
     "name": "stdout",
     "output_type": "stream",
     "text": [
      "0.9565217391304348\n",
      "(0.8478731074260994, 0.5799116693119868, 0.622131704005431, None)\n",
      "(0.9565217391304348, 0.9565217391304348, 0.9565217391304348, None)\n",
      "0.5799116693119868\n",
      "0.5799116693119868\n"
     ]
    }
   ],
   "source": [
    "# build model\n",
    "X = pd.concat([pd.DataFrame(text_feature),pd.DataFrame(label_feature)],axis=1).set_axis(list(range(108)), axis=1, inplace=False)\n",
    "y = df3['fraudulent']\n",
    "\n",
    "X_train, X_test, y_train, y_test = train_test_split(X, y, test_size= 0.10, random_state= 42, stratify= y)\n",
    "X_train, X_val, y_train, y_val = train_test_split(X_train, y_train, test_size= 0.11, random_state= 42, stratify= y_train)\n",
    "\n",
    "glove_clf = LogisticRegression(C=1.0, max_iter=10000).fit(X_train, y_train)\n",
    "print(glove_clf.score(X_val, y_val))\n",
    "print(precision_recall_fscore_support(y_val, glove_clf.predict(X_val), average='macro'))\n",
    "print(precision_recall_fscore_support(y_val, glove_clf.predict(X_val), average='micro'))\n",
    "print(roc_auc_score(y_val, glove_clf.predict(X_val), average='macro'))\n",
    "print(roc_auc_score(y_val, glove_clf.predict(X_val), average='micro'))"
   ]
  },
  {
   "cell_type": "code",
   "execution_count": 19,
   "metadata": {},
   "outputs": [
    {
     "name": "stdout",
     "output_type": "stream",
     "text": [
      "employment_type | 0.08363491774954529\n",
      "required_experience | 0.28352072276900686\n",
      "required_education | 0.22064025558192668\n",
      "industry | 0.1360812004010211\n",
      "function | -0.507865381464418\n",
      "country | 0.4400128548116464\n",
      "state | 0.044940121431559524\n",
      "city | -0.09606047404468133\n"
     ]
    }
   ],
   "source": [
    "cols = ['employment_type', 'required_experience', 'required_education', 'industry', 'function', 'country',\n",
    "       'state', 'city']\n",
    "for i in range(8):\n",
    "    print(cols[i], \"|\", glove_clf.coef_[0][-8:][i])\n"
   ]
  },
  {
   "cell_type": "code",
   "execution_count": 20,
   "metadata": {},
   "outputs": [
    {
     "name": "stdout",
     "output_type": "stream",
     "text": [
      "0.9570863918690006\n",
      "(0.8683526652722318, 0.5802084052170313, 0.6235624468608763, None)\n",
      "(0.9570863918690006, 0.9570863918690006, 0.9570863918690006, None)\n",
      "0.5802084052170313\n",
      "0.5802084052170313\n"
     ]
    }
   ],
   "source": [
    "X = pd.DataFrame(text_feature)#,pd.DataFrame(label_feature)],axis=1).set_axis(list(range(108)), axis=1, inplace=False)\n",
    "y = df3['fraudulent']\n",
    "\n",
    "X_train, X_test, y_train, y_test = train_test_split(X, y, test_size= 0.10, random_state= 42, stratify= y)\n",
    "X_train, X_val, y_train, y_val = train_test_split(X_train, y_train, test_size= 0.11, random_state= 42, stratify= y_train)\n",
    "\n",
    "glove_clf = LogisticRegression(C=1.0, max_iter=10000).fit(X_train, y_train)\n",
    "print(glove_clf.score(X_val, y_val))\n",
    "print(precision_recall_fscore_support(y_val, glove_clf.predict(X_val), average='macro'))\n",
    "print(precision_recall_fscore_support(y_val, glove_clf.predict(X_val), average='micro'))\n",
    "print(roc_auc_score(y_val, glove_clf.predict(X_val), average='macro'))\n",
    "print(roc_auc_score(y_val, glove_clf.predict(X_val), average='micro'))"
   ]
  },
  {
   "cell_type": "code",
   "execution_count": null,
   "metadata": {},
   "outputs": [],
   "source": []
  },
  {
   "cell_type": "code",
   "execution_count": null,
   "metadata": {},
   "outputs": [],
   "source": []
  },
  {
   "cell_type": "code",
   "execution_count": null,
   "metadata": {},
   "outputs": [],
   "source": []
  },
  {
   "cell_type": "code",
   "execution_count": null,
   "metadata": {},
   "outputs": [],
   "source": []
  },
  {
   "cell_type": "code",
   "execution_count": null,
   "metadata": {},
   "outputs": [],
   "source": []
  },
  {
   "cell_type": "code",
   "execution_count": null,
   "metadata": {},
   "outputs": [],
   "source": []
  },
  {
   "cell_type": "code",
   "execution_count": null,
   "metadata": {},
   "outputs": [],
   "source": []
  },
  {
   "cell_type": "code",
   "execution_count": null,
   "metadata": {},
   "outputs": [],
   "source": []
  },
  {
   "cell_type": "code",
   "execution_count": null,
   "metadata": {},
   "outputs": [],
   "source": []
  },
  {
   "cell_type": "code",
   "execution_count": null,
   "metadata": {},
   "outputs": [],
   "source": []
  },
  {
   "cell_type": "code",
   "execution_count": null,
   "metadata": {},
   "outputs": [],
   "source": []
  },
  {
   "cell_type": "code",
   "execution_count": null,
   "metadata": {},
   "outputs": [],
   "source": []
  },
  {
   "cell_type": "code",
   "execution_count": null,
   "metadata": {},
   "outputs": [],
   "source": []
  },
  {
   "cell_type": "code",
   "execution_count": null,
   "metadata": {},
   "outputs": [],
   "source": []
  },
  {
   "cell_type": "code",
   "execution_count": null,
   "metadata": {},
   "outputs": [],
   "source": []
  },
  {
   "cell_type": "code",
   "execution_count": null,
   "metadata": {},
   "outputs": [],
   "source": []
  },
  {
   "cell_type": "code",
   "execution_count": null,
   "metadata": {},
   "outputs": [],
   "source": []
  },
  {
   "cell_type": "code",
   "execution_count": null,
   "metadata": {},
   "outputs": [],
   "source": []
  },
  {
   "cell_type": "code",
   "execution_count": null,
   "metadata": {},
   "outputs": [],
   "source": []
  },
  {
   "cell_type": "code",
   "execution_count": null,
   "metadata": {},
   "outputs": [],
   "source": []
  },
  {
   "cell_type": "code",
   "execution_count": null,
   "metadata": {},
   "outputs": [],
   "source": []
  },
  {
   "cell_type": "code",
   "execution_count": null,
   "metadata": {},
   "outputs": [],
   "source": []
  },
  {
   "cell_type": "code",
   "execution_count": null,
   "metadata": {},
   "outputs": [],
   "source": []
  },
  {
   "cell_type": "code",
   "execution_count": null,
   "metadata": {},
   "outputs": [],
   "source": []
  },
  {
   "cell_type": "code",
   "execution_count": null,
   "metadata": {},
   "outputs": [],
   "source": []
  }
 ],
 "metadata": {
  "kernelspec": {
   "display_name": "Python 3",
   "language": "python",
   "name": "python3"
  },
  "language_info": {
   "codemirror_mode": {
    "name": "ipython",
    "version": 3
   },
   "file_extension": ".py",
   "mimetype": "text/x-python",
   "name": "python",
   "nbconvert_exporter": "python",
   "pygments_lexer": "ipython3",
   "version": "3.8.5"
  }
 },
 "nbformat": 4,
 "nbformat_minor": 4
}
