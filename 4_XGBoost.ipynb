{
 "cells": [
  {
   "cell_type": "code",
   "execution_count": 1,
   "metadata": {},
   "outputs": [],
   "source": [
    "import pandas as pd\n",
    "import numpy as np\n",
    "from sklearn.model_selection import train_test_split"
   ]
  },
  {
   "cell_type": "code",
   "execution_count": 2,
   "metadata": {},
   "outputs": [],
   "source": [
    "data = pd.read_csv(\"fake_job_postings.csv\")"
   ]
  },
  {
   "cell_type": "code",
   "execution_count": 3,
   "metadata": {},
   "outputs": [],
   "source": [
    "location = data[\"location\"].str.split(\",\", expand= True, n= 2)\n",
    "location.columns = [\"country\", \"state\", \"city\"]\n",
    "data[[\"country\", \"state\", \"city\"]] = location\n",
    "data = data.drop(columns= \"location\")"
   ]
  },
  {
   "cell_type": "code",
   "execution_count": 4,
   "metadata": {},
   "outputs": [],
   "source": [
    "salary = data[\"salary_range\"].str.split(\"-\", expand= True, n= 1)\n",
    "data[[\"min_salary\", \"max_salary\"]] = salary\n",
    "data = data.drop(columns= \"salary_range\")"
   ]
  },
  {
   "cell_type": "code",
   "execution_count": 5,
   "metadata": {},
   "outputs": [],
   "source": [
    "data = data.fillna(\"N/A\")\n",
    "data[\"state\"] = data[\"state\"].str.strip().apply(lambda x: \"N/A\" if x == '' else x)\n",
    "data[\"country\"] = data[\"country\"].str.strip().apply(lambda x: \"N/A\" if x == '' else x)\n",
    "data[\"city\"] = data[\"city\"].str.strip().apply(lambda x: \"N/A\" if x == '' else x)"
   ]
  },
  {
   "cell_type": "code",
   "execution_count": 6,
   "metadata": {},
   "outputs": [],
   "source": [
    "for i in [\"company_profile\", \"description\", \"requirements\", \"benefits\"]:\n",
    "    data[i] = data[i].str.lower()"
   ]
  },
  {
   "cell_type": "code",
   "execution_count": 7,
   "metadata": {},
   "outputs": [
    {
     "data": {
      "text/plain": [
       "job_id                 0\n",
       "title                  0\n",
       "department             0\n",
       "company_profile        0\n",
       "description            0\n",
       "requirements           0\n",
       "benefits               0\n",
       "telecommuting          0\n",
       "has_company_logo       0\n",
       "has_questions          0\n",
       "employment_type        0\n",
       "required_experience    0\n",
       "required_education     0\n",
       "industry               0\n",
       "function               0\n",
       "fraudulent             0\n",
       "country                0\n",
       "state                  0\n",
       "city                   0\n",
       "min_salary             0\n",
       "max_salary             0\n",
       "dtype: int64"
      ]
     },
     "execution_count": 7,
     "metadata": {},
     "output_type": "execute_result"
    }
   ],
   "source": [
    "data.isnull().sum()"
   ]
  },
  {
   "cell_type": "code",
   "execution_count": 8,
   "metadata": {},
   "outputs": [
    {
     "data": {
      "text/plain": [
       "Index(['job_id', 'title', 'department', 'company_profile', 'description',\n",
       "       'requirements', 'benefits', 'telecommuting', 'has_company_logo',\n",
       "       'has_questions', 'employment_type', 'required_experience',\n",
       "       'required_education', 'industry', 'function', 'fraudulent', 'country',\n",
       "       'state', 'city', 'min_salary', 'max_salary'],\n",
       "      dtype='object')"
      ]
     },
     "execution_count": 8,
     "metadata": {},
     "output_type": "execute_result"
    }
   ],
   "source": [
    "data.columns"
   ]
  },
  {
   "cell_type": "code",
   "execution_count": 9,
   "metadata": {},
   "outputs": [
    {
     "data": {
      "text/html": [
       "<div>\n",
       "<style scoped>\n",
       "    .dataframe tbody tr th:only-of-type {\n",
       "        vertical-align: middle;\n",
       "    }\n",
       "\n",
       "    .dataframe tbody tr th {\n",
       "        vertical-align: top;\n",
       "    }\n",
       "\n",
       "    .dataframe thead th {\n",
       "        text-align: right;\n",
       "    }\n",
       "</style>\n",
       "<table border=\"1\" class=\"dataframe\">\n",
       "  <thead>\n",
       "    <tr style=\"text-align: right;\">\n",
       "      <th>min_salary</th>\n",
       "      <th>False</th>\n",
       "      <th>True</th>\n",
       "    </tr>\n",
       "    <tr>\n",
       "      <th>fraudulent</th>\n",
       "      <th></th>\n",
       "      <th></th>\n",
       "    </tr>\n",
       "  </thead>\n",
       "  <tbody>\n",
       "    <tr>\n",
       "      <th>0</th>\n",
       "      <td>2645</td>\n",
       "      <td>14369</td>\n",
       "    </tr>\n",
       "    <tr>\n",
       "      <th>1</th>\n",
       "      <td>223</td>\n",
       "      <td>643</td>\n",
       "    </tr>\n",
       "  </tbody>\n",
       "</table>\n",
       "</div>"
      ],
      "text/plain": [
       "min_salary  False  True \n",
       "fraudulent              \n",
       "0            2645  14369\n",
       "1             223    643"
      ]
     },
     "execution_count": 9,
     "metadata": {},
     "output_type": "execute_result"
    }
   ],
   "source": [
    "pd.crosstab(data.fraudulent, data.min_salary=='N/A')"
   ]
  },
  {
   "cell_type": "code",
   "execution_count": 14,
   "metadata": {},
   "outputs": [],
   "source": [
    "# train test split - 0.8, 0.1, 0.1, execute after preprocessing\n",
    "# X_train, X_test, y_train, y_test = train_test_split(data, data[\"fraudulent\"], test_size= 0.10, random_state= 42, stratify= data[\"fraudulent\"])\n",
    "# X_tran, X_val, y_train, y_val = train_test_split(X_train, y_train, test_size= 0.11, random_state= 42, stratify= y_train)"
   ]
  },
  {
   "cell_type": "markdown",
   "metadata": {},
   "source": [
    "### TF-IDF - XGBoost"
   ]
  },
  {
   "cell_type": "code",
   "execution_count": 11,
   "metadata": {},
   "outputs": [
    {
     "name": "stderr",
     "output_type": "stream",
     "text": [
      "[nltk_data] Downloading package punkt to /home/jovyan/nltk_data...\n",
      "[nltk_data]   Package punkt is already up-to-date!\n",
      "[nltk_data] Downloading package stopwords to /home/jovyan/nltk_data...\n",
      "[nltk_data]   Package stopwords is already up-to-date!\n"
     ]
    }
   ],
   "source": [
    "from sklearn.feature_extraction.text import CountVectorizer\n",
    "from sklearn.model_selection import train_test_split\n",
    "from sklearn.linear_model import LogisticRegression\n",
    "from sklearn.feature_extraction.text import TfidfVectorizer\n",
    "from sklearn.metrics import accuracy_score\n",
    "from sklearn.metrics import f1_score\n",
    "from sklearn.preprocessing import LabelEncoder\n",
    "import collections\n",
    "from sklearn.preprocessing import StandardScaler\n",
    "from scipy.sparse import hstack\n",
    "import nltk\n",
    "nltk.download('punkt')\n",
    "from nltk.tokenize import word_tokenize\n",
    "from nltk.tokenize import sent_tokenize\n",
    "from nltk.stem import PorterStemmer\n",
    "nltk.download('stopwords')\n",
    "from nltk.corpus import stopwords\n",
    "from xgboost import XGBClassifier\n",
    "from sklearn.model_selection import RandomizedSearchCV, GridSearchCV\n",
    "from sklearn.metrics import roc_auc_score\n",
    "from sklearn.model_selection import StratifiedKFold\n",
    "from sklearn.metrics import accuracy_score\n",
    "from sklearn.metrics import classification_report\n",
    "from sklearn.metrics import roc_auc_score\n",
    "from sklearn import metrics"
   ]
  },
  {
   "cell_type": "code",
   "execution_count": 12,
   "metadata": {},
   "outputs": [],
   "source": [
    "# tokenizer define\n",
    "ps = PorterStemmer()\n",
    "stop = set(stopwords.words('english'))\n",
    "def tokenizer (doc):\n",
    "    sentences = sent_tokenize(doc)\n",
    "    tokens = []\n",
    "    for sent in sentences:\n",
    "        words = word_tokenize(sent)\n",
    "        words = [ps.stem(word) for word in words]\n",
    "        tokens+=words\n",
    "    return [w.lower() for w in tokens if w not in stop]"
   ]
  },
  {
   "cell_type": "code",
   "execution_count": 13,
   "metadata": {},
   "outputs": [],
   "source": [
    "# combine text features and vectorize\n",
    "df1 = data.copy()\n",
    "text_feature = df1[['title', 'department','company_profile','description','requirements','benefits']].apply(lambda x: ' '.join(x), axis = 1)\n",
    "\n",
    "tfidf = TfidfVectorizer(strip_accents=None,\n",
    "                        lowercase=True,\n",
    "                        preprocessor=None,  # applied preprocessor in Data Cleaning\n",
    "                        tokenizer=tokenizer,\n",
    "                        use_idf=True,\n",
    "                        norm='l2',\n",
    "                        smooth_idf=True)\n",
    "\n",
    "text_feature = tfidf.fit_transform(text_feature)\n"
   ]
  },
  {
   "cell_type": "code",
   "execution_count": 14,
   "metadata": {},
   "outputs": [],
   "source": [
    "# encode label features\n",
    "lb = LabelEncoder()\n",
    "\n",
    "for col in ['employment_type', 'required_experience', 'required_education', 'industry', 'function', 'country',\n",
    "       'state', 'city']:\n",
    "    df1[col] = lb.fit_transform(df1[col])\n"
   ]
  },
  {
   "cell_type": "code",
   "execution_count": 15,
   "metadata": {},
   "outputs": [],
   "source": [
    "# scale\n",
    "label_feature = df1[['employment_type', 'required_experience', 'required_education', 'industry', 'function', 'country',\n",
    "       'state', 'city']]\n",
    "scaler = StandardScaler().fit(label_feature)\n",
    "\n",
    "label_feature = scaler.transform(label_feature)"
   ]
  },
  {
   "cell_type": "code",
   "execution_count": 16,
   "metadata": {},
   "outputs": [
    {
     "name": "stdout",
     "output_type": "stream",
     "text": [
      "[23:40:11] WARNING: ../src/learner.cc:1061: Starting in XGBoost 1.3.0, the default evaluation metric used with the objective 'binary:logistic' was changed from 'error' to 'logloss'. Explicitly set eval_metric if you'd like to restore the old behavior.\n",
      "              precision    recall  f1-score   support\n",
      "\n",
      "           0       1.00      0.95      0.97      1685\n",
      "           1       0.48      0.91      0.63        86\n",
      "\n",
      "    accuracy                           0.95      1771\n",
      "   macro avg       0.74      0.93      0.80      1771\n",
      "weighted avg       0.97      0.95      0.96      1771\n",
      "\n"
     ]
    }
   ],
   "source": [
    "# build model\n",
    "X = hstack((text_feature, label_feature))\n",
    "y = df1['fraudulent']\n",
    "\n",
    "X_train, X_test, y_train, y_test = train_test_split(X, y, test_size= 0.10, random_state= 42, stratify= y)\n",
    "X_train, X_val, y_train, y_val = train_test_split(X_train, y_train, test_size= 0.11, random_state= 42, stratify= y_train)\n",
    "\n",
    "tfidf_clf = XGBClassifier(use_label_encoder=False, learning_rate=0.02, n_estimators=300, objective='binary:logistic', subsample= 1.0, min_child_weight= 5, max_depth=5, gamma=5, scale_pos_weight= 20).fit(X_train, y_train)\n",
    "pred_val = tfidf_clf.predict(X_val)\n",
    "print(classification_report(y_val, pred_val))"
   ]
  },
  {
   "cell_type": "code",
   "execution_count": 17,
   "metadata": {},
   "outputs": [
    {
     "name": "stdout",
     "output_type": "stream",
     "text": [
      "              precision    recall  f1-score   support\n",
      "\n",
      "           0   0.995031  0.950742  0.972382      1685\n",
      "           1   0.484472  0.906977  0.631579        86\n",
      "\n",
      "    accuracy                       0.948617      1771\n",
      "   macro avg   0.739752  0.928859  0.801981      1771\n",
      "weighted avg   0.970238  0.948617  0.955833      1771\n",
      "\n"
     ]
    }
   ],
   "source": [
    "pred_val = tfidf_clf.predict(X_val)\n",
    "print(classification_report(y_val, pred_val, digits= 6))"
   ]
  },
  {
   "cell_type": "code",
   "execution_count": 18,
   "metadata": {},
   "outputs": [
    {
     "data": {
      "text/plain": [
       "0.9288592919743289"
      ]
     },
     "execution_count": 18,
     "metadata": {},
     "output_type": "execute_result"
    }
   ],
   "source": [
    "fpr, tpr, thresholds = metrics.roc_curve(y_val, pred_val)\n",
    "metrics.auc(fpr, tpr)"
   ]
  },
  {
   "cell_type": "code",
   "execution_count": 19,
   "metadata": {},
   "outputs": [
    {
     "name": "stdout",
     "output_type": "stream",
     "text": [
      "              precision    recall  f1-score   support\n",
      "\n",
      "           0   0.996296  0.948854  0.971996      1701\n",
      "           1   0.482143  0.931034  0.635294        87\n",
      "\n",
      "    accuracy                       0.947987      1788\n",
      "   macro avg   0.739220  0.939944  0.803645      1788\n",
      "weighted avg   0.971279  0.947987  0.955613      1788\n",
      "\n"
     ]
    }
   ],
   "source": [
    "pred_test = tfidf_clf.predict(X_test)\n",
    "print(classification_report(y_test, pred_test, digits= 6))"
   ]
  },
  {
   "cell_type": "code",
   "execution_count": 20,
   "metadata": {},
   "outputs": [
    {
     "data": {
      "text/plain": [
       "0.9399440491394515"
      ]
     },
     "execution_count": 20,
     "metadata": {},
     "output_type": "execute_result"
    }
   ],
   "source": [
    "fpr, tpr, thresholds = metrics.roc_curve(y_test, pred_test)\n",
    "metrics.auc(fpr, tpr)"
   ]
  },
  {
   "cell_type": "markdown",
   "metadata": {},
   "source": [
    "### BOW - XGBoost"
   ]
  },
  {
   "cell_type": "code",
   "execution_count": 21,
   "metadata": {},
   "outputs": [],
   "source": [
    "# combine text features and vectorize\n",
    "df2 = data.copy()\n",
    "text_feature = df2[['title', 'department','company_profile','description','requirements','benefits']].apply(lambda x: ' '.join(x), axis = 1)\n",
    "\n",
    "bow = CountVectorizer(tokenizer=tokenizer)\n",
    "\n",
    "text_feature = bow.fit_transform(text_feature)\n"
   ]
  },
  {
   "cell_type": "code",
   "execution_count": 22,
   "metadata": {},
   "outputs": [],
   "source": [
    "# encode label features\n",
    "lb = LabelEncoder()\n",
    "\n",
    "for col in ['employment_type', 'required_experience', 'required_education', 'industry', 'function', 'country',\n",
    "       'state', 'city']:\n",
    "    df2[col] = lb.fit_transform(df2[col])\n"
   ]
  },
  {
   "cell_type": "code",
   "execution_count": 23,
   "metadata": {},
   "outputs": [],
   "source": [
    "# scale\n",
    "label_feature = df2[['employment_type', 'required_experience', 'required_education', 'industry', 'function', 'country',\n",
    "       'state', 'city']]\n",
    "scaler = StandardScaler().fit(label_feature)\n",
    "\n",
    "label_feature = scaler.transform(label_feature)"
   ]
  },
  {
   "cell_type": "code",
   "execution_count": 24,
   "metadata": {},
   "outputs": [
    {
     "name": "stdout",
     "output_type": "stream",
     "text": [
      "[16:07:23] WARNING: ../src/learner.cc:1061: Starting in XGBoost 1.3.0, the default evaluation metric used with the objective 'binary:logistic' was changed from 'error' to 'logloss'. Explicitly set eval_metric if you'd like to restore the old behavior.\n"
     ]
    }
   ],
   "source": [
    "# build model\n",
    "X = hstack((text_feature, label_feature))\n",
    "y = df2['fraudulent']\n",
    "\n",
    "X_train, X_test, y_train, y_test = train_test_split(X, y, test_size= 0.10, random_state= 42, stratify= y)\n",
    "X_train, X_val, y_train, y_val = train_test_split(X_train, y_train, test_size= 0.11, random_state= 42, stratify= y_train)\n",
    "\n",
    "bow_clf = XGBClassifier(use_label_encoder=False, learning_rate=0.02, n_estimators=300, objective='binary:logistic', subsample= 1.0, min_child_weight= 5, max_depth=5, gamma=5, scale_pos_weight= 20).fit(X_train, y_train)\n",
    "#pred_val = bow_clf.predict(X_val)\n",
    "#print(classification_report(y_val, pred_val))"
   ]
  },
  {
   "cell_type": "code",
   "execution_count": 65,
   "metadata": {},
   "outputs": [
    {
     "name": "stdout",
     "output_type": "stream",
     "text": [
      "              precision    recall  f1-score   support\n",
      "\n",
      "           0   0.996269  0.950742  0.972973      1685\n",
      "           1   0.490798  0.930233  0.642570        86\n",
      "\n",
      "    accuracy                       0.949746      1771\n",
      "   macro avg   0.743533  0.940487  0.807772      1771\n",
      "weighted avg   0.971723  0.949746  0.956929      1771\n",
      "\n"
     ]
    }
   ],
   "source": [
    "pred_val = bow_clf.predict(X_val)\n",
    "print(classification_report(y_val, pred_val, digits= 6))"
   ]
  },
  {
   "cell_type": "code",
   "execution_count": 66,
   "metadata": {},
   "outputs": [
    {
     "data": {
      "text/plain": [
       "0.940487198951073"
      ]
     },
     "execution_count": 66,
     "metadata": {},
     "output_type": "execute_result"
    }
   ],
   "source": [
    "fpr, tpr, thresholds = metrics.roc_curve(y_val, pred_val)\n",
    "metrics.auc(fpr, tpr)"
   ]
  },
  {
   "cell_type": "code",
   "execution_count": 67,
   "metadata": {},
   "outputs": [
    {
     "name": "stdout",
     "output_type": "stream",
     "text": [
      "              precision    recall  f1-score   support\n",
      "\n",
      "           0   0.996892  0.942975  0.969184      1701\n",
      "           1   0.458101  0.942529  0.616541        87\n",
      "\n",
      "    accuracy                       0.942953      1788\n",
      "   macro avg   0.727497  0.942752  0.792863      1788\n",
      "weighted avg   0.970676  0.942953  0.952025      1788\n",
      "\n"
     ]
    }
   ],
   "source": [
    "pred_test = bow_clf.predict(X_test)\n",
    "print(classification_report(y_test, pred_test, digits= 6))"
   ]
  },
  {
   "cell_type": "code",
   "execution_count": 68,
   "metadata": {},
   "outputs": [
    {
     "data": {
      "text/plain": [
       "0.9427517281923412"
      ]
     },
     "execution_count": 68,
     "metadata": {},
     "output_type": "execute_result"
    }
   ],
   "source": [
    "fpr, tpr, thresholds = metrics.roc_curve(y_test, pred_test)\n",
    "metrics.auc(fpr, tpr)"
   ]
  },
  {
   "cell_type": "markdown",
   "metadata": {},
   "source": [
    "## GloVe"
   ]
  },
  {
   "cell_type": "code",
   "execution_count": 30,
   "metadata": {},
   "outputs": [],
   "source": [
    "from gensim.test.utils import datapath, get_tmpfile\n",
    "from gensim.corpora import Dictionary\n",
    "from gensim.models import KeyedVectors, LdaModel, Word2Vec\n",
    "from gensim.scripts.glove2word2vec import glove2word2vec\n",
    "from gensim.test.utils import datapath, get_tmpfile\n",
    "import re\n",
    "# load the GloVe 6B embeddings\n",
    "\n",
    "glove_file = \"glove.6B.100d.txt\"\n",
    "tmp_file = get_tmpfile(\"test_word2vec.txt\")\n",
    "\n",
    "_ = glove2word2vec(glove_file, tmp_file)\n",
    "glove_model = KeyedVectors.load_word2vec_format(tmp_file)"
   ]
  },
  {
   "cell_type": "code",
   "execution_count": 69,
   "metadata": {},
   "outputs": [],
   "source": [
    "df3 = data.copy()\n",
    "text_feature = df3[['title', 'department','company_profile','description','requirements','benefits']].apply(lambda x: ' '.join(x), axis = 1)"
   ]
  },
  {
   "cell_type": "code",
   "execution_count": 70,
   "metadata": {},
   "outputs": [],
   "source": [
    "def word_averaging(model, sentence):\n",
    "    vectors = np.zeros(100)\n",
    "    words = re.sub(r\"\\W+\", \" \", sentence).split()\n",
    "    words = [w.lower() for w in words if w not in stop]\n",
    "   # words = [ps.stem(word) for word in words]\n",
    "    for i in words:\n",
    "        try:\n",
    "            vectors += model[i]\n",
    "        except KeyError:\n",
    "            pass\n",
    "    return vectors / len(words)"
   ]
  },
  {
   "cell_type": "code",
   "execution_count": 71,
   "metadata": {},
   "outputs": [],
   "source": [
    "# combine text features and vectorize\n",
    "df3 = data.copy()\n",
    "text = df3[['title', 'department','company_profile','description','requirements','benefits']].apply(lambda x: ' '.join(x), axis = 1)\n",
    "\n",
    "text_feature = list(word_averaging(glove_model, i) for i in text_feature)\n",
    "\n"
   ]
  },
  {
   "cell_type": "code",
   "execution_count": 72,
   "metadata": {},
   "outputs": [],
   "source": [
    "# scale\n",
    "lb = LabelEncoder()\n",
    "\n",
    "for col in ['employment_type', 'required_experience', 'required_education', 'industry', 'function', 'country',\n",
    "       'state', 'city']:\n",
    "    df3[col] = lb.fit_transform(df3[col])\n",
    "\n",
    "label_feature = df3[['employment_type', 'required_experience', 'required_education', 'industry', 'function', 'country',\n",
    "       'state', 'city']]\n",
    "scaler = StandardScaler().fit(label_feature)\n",
    "\n",
    "label_feature = scaler.transform(label_feature)"
   ]
  },
  {
   "cell_type": "code",
   "execution_count": 73,
   "metadata": {},
   "outputs": [
    {
     "name": "stdout",
     "output_type": "stream",
     "text": [
      "[20:24:28] WARNING: ../src/learner.cc:1061: Starting in XGBoost 1.3.0, the default evaluation metric used with the objective 'binary:logistic' was changed from 'error' to 'logloss'. Explicitly set eval_metric if you'd like to restore the old behavior.\n"
     ]
    }
   ],
   "source": [
    "# build model\n",
    "X = pd.concat([pd.DataFrame(text_feature),pd.DataFrame(label_feature)],axis=1).set_axis(list(range(108)), axis=1, inplace=False)\n",
    "y = df3['fraudulent']\n",
    "\n",
    "X_train, X_test, y_train, y_test = train_test_split(X, y, test_size= 0.10, random_state= 42, stratify= y)\n",
    "X_train, X_val, y_train, y_val = train_test_split(X_train, y_train, test_size= 0.11, random_state= 42, stratify= y_train)\n",
    "\n",
    "glove_clf = XGBClassifier(use_label_encoder=False, learning_rate=0.02, n_estimators=300, objective='binary:logistic', subsample= 1.0, min_child_weight= 5, max_depth=5, gamma=5, scale_pos_weight= 20).fit(X_train, y_train)"
   ]
  },
  {
   "cell_type": "code",
   "execution_count": 74,
   "metadata": {},
   "outputs": [
    {
     "name": "stdout",
     "output_type": "stream",
     "text": [
      "              precision    recall  f1-score   support\n",
      "\n",
      "           0   0.984747  0.957864  0.971119      1685\n",
      "           1   0.462121  0.709302  0.559633        86\n",
      "\n",
      "    accuracy                       0.945793      1771\n",
      "   macro avg   0.723434  0.833583  0.765376      1771\n",
      "weighted avg   0.959368  0.945793  0.951137      1771\n",
      "\n"
     ]
    }
   ],
   "source": [
    "val_pred = glove_clf.predict(X_val)\n",
    "print(classification_report(y_val, val_pred, digits= 6))"
   ]
  },
  {
   "cell_type": "code",
   "execution_count": 75,
   "metadata": {},
   "outputs": [
    {
     "data": {
      "text/plain": [
       "0.8335829135325374"
      ]
     },
     "execution_count": 75,
     "metadata": {},
     "output_type": "execute_result"
    }
   ],
   "source": [
    "fpr, tpr, thresholds = metrics.roc_curve(y_val, val_pred)\n",
    "metrics.auc(fpr, tpr)"
   ]
  },
  {
   "cell_type": "code",
   "execution_count": 76,
   "metadata": {},
   "outputs": [
    {
     "name": "stdout",
     "output_type": "stream",
     "text": [
      "              precision    recall  f1-score   support\n",
      "\n",
      "           0   0.990373  0.967666  0.978888      1701\n",
      "           1   0.563492  0.816092  0.666667        87\n",
      "\n",
      "    accuracy                       0.960291      1788\n",
      "   macro avg   0.776933  0.891879  0.822777      1788\n",
      "weighted avg   0.969602  0.960291  0.963696      1788\n",
      "\n"
     ]
    }
   ],
   "source": [
    "test_pred = glove_clf.predict(X_test)\n",
    "print(classification_report(y_test, test_pred, digits= 6))"
   ]
  },
  {
   "cell_type": "code",
   "execution_count": 77,
   "metadata": {},
   "outputs": [
    {
     "data": {
      "text/plain": [
       "0.8918790164000893"
      ]
     },
     "execution_count": 77,
     "metadata": {},
     "output_type": "execute_result"
    }
   ],
   "source": [
    "fpr, tpr, thresholds = metrics.roc_curve(y_test, test_pred)\n",
    "metrics.auc(fpr, tpr)"
   ]
  },
  {
   "cell_type": "code",
   "execution_count": null,
   "metadata": {},
   "outputs": [],
   "source": []
  }
 ],
 "metadata": {
  "kernelspec": {
   "display_name": "Python 3",
   "language": "python",
   "name": "python3"
  },
  "language_info": {
   "codemirror_mode": {
    "name": "ipython",
    "version": 3
   },
   "file_extension": ".py",
   "mimetype": "text/x-python",
   "name": "python",
   "nbconvert_exporter": "python",
   "pygments_lexer": "ipython3",
   "version": "3.8.5"
  }
 },
 "nbformat": 4,
 "nbformat_minor": 4
}
